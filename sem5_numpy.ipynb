{
 "cells": [
  {
   "cell_type": "code",
   "execution_count": null,
   "metadata": {
    "collapsed": true,
    "slideshow": {
     "slide_type": "skip"
    }
   },
   "outputs": [],
   "source": [
    "from IPython.core.interactiveshell import InteractiveShell\n",
    "InteractiveShell.ast_node_interactivity = \"all\""
   ]
  },
  {
   "cell_type": "markdown",
   "metadata": {
    "slideshow": {
     "slide_type": "slide"
    }
   },
   "source": [
    "<center> \n",
    "<h1>Семинар №5</h1>\n",
    "<br>\n",
    "<h2>Математика в Python: math, random, numpy, scipy<h2>\n",
    "</center>"
   ]
  },
  {
   "cell_type": "markdown",
   "metadata": {},
   "source": [
    "## Немного о *float*\n",
    "<img src=\"http://moda-svoimi-rukami.ru/wp-content/uploads/2016/07/funny-cat-foto-moment-15.jpg\" width=400 align=center>\n",
    "\n",
    "У типа float есть 3 специфических значения: inf, -inf (бесконечности) и nan (not a number)"
   ]
  },
  {
   "cell_type": "code",
   "execution_count": null,
   "metadata": {
    "collapsed": false,
    "scrolled": true
   },
   "outputs": [],
   "source": [
    "x = float(\"inf\")\n",
    "x > 1000\n",
    "x > 1000 ** 6\n",
    "x > x\n",
    "\n",
    "x == 2 * x\n",
    "1/x\n",
    "x == x ** 2"
   ]
  },
  {
   "cell_type": "code",
   "execution_count": null,
   "metadata": {
    "collapsed": false
   },
   "outputs": [],
   "source": [
    "x = float(\"-inf\")\n",
    "x < -1000\n",
    "x < -(1000 ** 6)\n",
    "x < x\n",
    "\n",
    "\n",
    "x == 2 * x\n",
    "1/x\n",
    "x ** 2 == float(\"inf\")"
   ]
  },
  {
   "cell_type": "code",
   "execution_count": null,
   "metadata": {
    "collapsed": false
   },
   "outputs": [],
   "source": [
    "1/0.0  # но получить inf не так просто"
   ]
  },
  {
   "cell_type": "code",
   "execution_count": null,
   "metadata": {
    "collapsed": false
   },
   "outputs": [],
   "source": [
    "x = float(\"nan\")\n",
    "print(x)\n",
    "\n",
    "x == 2\n",
    "x == x\n",
    "x > 1\n",
    "x < 1\n",
    "\n",
    "print(x * 2)"
   ]
  },
  {
   "cell_type": "markdown",
   "metadata": {},
   "source": [
    "## Системы счисления"
   ]
  },
  {
   "cell_type": "code",
   "execution_count": null,
   "metadata": {
    "collapsed": false
   },
   "outputs": [],
   "source": [
    "hex(10)\n",
    "hex(16)\n",
    "hex(1234)\n",
    "\n",
    "bin(10)\n",
    "bin(2)\n",
    "bin(1234)\n",
    "\n",
    "oct(10)\n",
    "oct(8)\n",
    "oct(1234)"
   ]
  },
  {
   "cell_type": "code",
   "execution_count": null,
   "metadata": {
    "collapsed": false
   },
   "outputs": [],
   "source": [
    "a = 0b1011001  # двоичная - префикс 0b\n",
    "a == 89\n",
    "b = 0o1352     # префикс 0o\n",
    "b == 746\n",
    "c = 0xab4f     # префикс 0x\n",
    "c == 43855\n",
    "\n",
    "int('10011010010', 2)\n",
    "int('2322', 8)\n",
    "int('4d2', 16)\n",
    "int('1234', 10)\n",
    "int('1234')\n",
    "int('14414', 5)  # вообще можно указать любую систему счисления (в разумных пределах)\n",
    "\n",
    "int('14415', 5)"
   ]
  },
  {
   "cell_type": "markdown",
   "metadata": {},
   "source": [
    "## Округление: бессмысленное и беспощадное\n",
    "<img src='http://www.whycatwhy.com/wp-content/uploads/2016/03/round-cat-3-768x588.jpg' width=300>"
   ]
  },
  {
   "cell_type": "code",
   "execution_count": null,
   "metadata": {
    "collapsed": false
   },
   "outputs": [],
   "source": [
    "round(1.23)\n",
    "round(5.84)\n",
    "\n",
    "round(0.16, 1)\n",
    "round(10.72, 1)\n",
    "\n",
    "round(12345, -1)\n",
    "round(34222.2344, -3)"
   ]
  },
  {
   "cell_type": "markdown",
   "metadata": {},
   "source": [
    "Не все так просто: банковское округление!\n",
    "<img src='https://i.imgflip.com/19ga84.jpg' width=400>"
   ]
  },
  {
   "cell_type": "code",
   "execution_count": null,
   "metadata": {
    "collapsed": false
   },
   "outputs": [],
   "source": [
    "round(2.65, 1)\n",
    "round(2.75, 1)\n",
    "round(2.85, 1)"
   ]
  },
  {
   "cell_type": "markdown",
   "metadata": {},
   "source": [
    "## random\n",
    "Для любых задач, где вам нужно использовать случайное число или составить выборку, можно использовать random"
   ]
  },
  {
   "cell_type": "code",
   "execution_count": null,
   "metadata": {
    "collapsed": false
   },
   "outputs": [],
   "source": [
    "import random\n",
    "\n",
    "random.random()  # [0, 1]\n",
    "random.randint(12, 23)  # A <= x <= B\n",
    "random.uniform(2.5, 7.8)  # min(a,b) <= x <= max(a,b)"
   ]
  },
  {
   "cell_type": "code",
   "execution_count": null,
   "metadata": {
    "collapsed": false
   },
   "outputs": [],
   "source": [
    "names =['Alice', 'Bob', 'Charlie', 'David', 'Eve', 'Frank', 'Grace', 'Heidi', 'Isaac', 'Jack', 'Keith']\n",
    "\n",
    "random.choice(names) \n",
    "random.sample(names, 5)\n",
    "random.sample(names, 200)"
   ]
  },
  {
   "cell_type": "code",
   "execution_count": null,
   "metadata": {
    "collapsed": false
   },
   "outputs": [],
   "source": [
    "prefix = names[:5]\n",
    "prefix\n",
    "random.shuffle(prefix)\n",
    "prefix"
   ]
  },
  {
   "cell_type": "code",
   "execution_count": null,
   "metadata": {
    "collapsed": false
   },
   "outputs": [],
   "source": [
    "random.normalvariate(0, 5)  # нормальное распределение"
   ]
  },
  {
   "cell_type": "code",
   "execution_count": null,
   "metadata": {
    "collapsed": false
   },
   "outputs": [],
   "source": [
    "random.getrandbits(100)"
   ]
  },
  {
   "cell_type": "code",
   "execution_count": null,
   "metadata": {
    "collapsed": false
   },
   "outputs": [],
   "source": [
    "import timeit \n",
    "\n",
    "timeit.timeit(\"random.getrandbits(100000)\", setup=\"import random\", number=20000)\n",
    "timeit.timeit(\"random.randint(0, x)\", setup=\"import random\\nx=2**100000 - 1\", number=20000)"
   ]
  },
  {
   "cell_type": "markdown",
   "metadata": {},
   "source": [
    "## math   \n",
    "Official docs: https://docs.python.org/3.6/library/math.html  \n",
    "RUS: https://pythonworld.ru/moduli/modul-math.html  "
   ]
  },
  {
   "cell_type": "code",
   "execution_count": null,
   "metadata": {
    "collapsed": false
   },
   "outputs": [],
   "source": [
    "import math\n",
    "\n",
    "math.ceil(1.23)\n",
    "math.ceil(5.84)\n",
    "math.ceil(-2.4)\n",
    "math.ceil(-3.7)\n",
    "\n",
    "math.ceil(12.0)"
   ]
  },
  {
   "cell_type": "code",
   "execution_count": null,
   "metadata": {
    "collapsed": false
   },
   "outputs": [],
   "source": [
    "math.floor(1.23)\n",
    "math.floor(5.84)\n",
    "math.floor(-2.4)\n",
    "math.floor(-3.7)\n",
    "\n",
    "math.floor(12.0)"
   ]
  },
  {
   "cell_type": "code",
   "execution_count": null,
   "metadata": {
    "collapsed": false
   },
   "outputs": [],
   "source": [
    "int(1.23)\n",
    "int(5.84)\n",
    "int(-2.4)\n",
    "int(-3.7)\n",
    "\n",
    "int(12)"
   ]
  },
  {
   "cell_type": "code",
   "execution_count": null,
   "metadata": {
    "collapsed": false
   },
   "outputs": [],
   "source": [
    "abs(3.54)\n",
    "abs(-23.5)\n",
    "\n",
    "abs(-2)\n",
    "math.fabs(-2)"
   ]
  },
  {
   "cell_type": "code",
   "execution_count": null,
   "metadata": {
    "collapsed": false
   },
   "outputs": [],
   "source": [
    "22 % 5\n",
    "-22 % 7\n",
    "33 % -23\n",
    "\n",
    "12.34 % 2\n",
    "4.76 % 1.311\n",
    "\n",
    "math.fmod(22, 5)\n",
    "math.fmod(-22, 7)\n",
    "math.fmod(33, -23)\n",
    "math.fmod(12.34, 2)\n",
    "math.fmod(4.76, 1.311)"
   ]
  },
  {
   "cell_type": "markdown",
   "metadata": {},
   "source": [
    "## sum vs math.fsum "
   ]
  },
  {
   "cell_type": "code",
   "execution_count": null,
   "metadata": {
    "collapsed": false
   },
   "outputs": [],
   "source": [
    "arr = [1, 1e100, 1, -1e100]\n",
    "sum(arr)\n",
    "math.fsum(arr)"
   ]
  },
  {
   "cell_type": "markdown",
   "metadata": {},
   "source": [
    "Мораль: для больших массивов разных чисел с плавающей точкой используйте **math.fsum**!  \n",
    "More: https://code.activestate.com/recipes/393090/"
   ]
  },
  {
   "cell_type": "code",
   "execution_count": null,
   "metadata": {
    "collapsed": false
   },
   "outputs": [],
   "source": [
    "math.exp(2.4) \n",
    "math.log(2.4) \n",
    "math.log2(2.4) \n",
    "math.log10(2.4) \n",
    "math.pow(2.4, 3.6) "
   ]
  },
  {
   "cell_type": "code",
   "execution_count": null,
   "metadata": {
    "collapsed": false
   },
   "outputs": [],
   "source": [
    "math.pi\n",
    "math.e\n",
    "math.sqrt(2.4) \n",
    "math.sin(2*math.pi) \n",
    "math.cos(math.pi) \n",
    "math.tan(0) \n",
    "\n",
    "math.asin(0.5) / math.pi\n",
    "math.acos(0.5) / math.pi\n",
    "\n",
    "math.degrees(math.pi) \n",
    "math.radians(60)"
   ]
  },
  {
   "cell_type": "markdown",
   "metadata": {},
   "source": [
    "---\n",
    "## Задача 1\n",
    "Создать массив длины N со случайными числами большими 1, округленными до десятых по правилам округления. Затем в случайных N/10 местах, заменить числа на сумму M чисел, каждое из которых является экспонентой в i степени, где $i \\in [1, x]$, где x - это текущее число (т.е. отрезок разбит на M-1 равных частей)"
   ]
  },
  {
   "cell_type": "code",
   "execution_count": null,
   "metadata": {
    "collapsed": true
   },
   "outputs": [],
   "source": []
  },
  {
   "cell_type": "markdown",
   "metadata": {},
   "source": [
    "---\n",
    "## numpy\n",
    "http://www.numpy.org/"
   ]
  },
  {
   "cell_type": "code",
   "execution_count": null,
   "metadata": {
    "collapsed": false
   },
   "outputs": [],
   "source": [
    "import numpy as np\n",
    "\n",
    "vec = np.array([1,2,3,4])\n",
    "vec\n",
    "type(vec)\n",
    "vec.dtype\n",
    "vec.shape\n",
    "vec.size"
   ]
  },
  {
   "cell_type": "code",
   "execution_count": null,
   "metadata": {
    "collapsed": false
   },
   "outputs": [],
   "source": [
    "MX = np.array([[1, None], [3, 4]], dtype=float)\n",
    "MX\n",
    "type(MX)\n",
    "MX.dtype\n",
    "MX.shape\n",
    "MX.size"
   ]
  },
  {
   "cell_type": "code",
   "execution_count": null,
   "metadata": {
    "collapsed": false
   },
   "outputs": [],
   "source": [
    "vec[1] = 5.4\n",
    "vec\n",
    "vec[2] = '6'\n",
    "vec\n",
    "MX[0][0] = '12'\n",
    "MX\n",
    "MX[0][1] = 'abc'"
   ]
  },
  {
   "cell_type": "code",
   "execution_count": null,
   "metadata": {
    "collapsed": false
   },
   "outputs": [],
   "source": [
    "np.random.random((4, 5))"
   ]
  },
  {
   "cell_type": "code",
   "execution_count": null,
   "metadata": {
    "collapsed": false
   },
   "outputs": [],
   "source": [
    "np.arange(0, 10, 2)\n",
    "np.arange(-1, 1, 1/3)\n",
    "np.linspace(-1, 1, 11)\n",
    "np.logspace(1, 4, 5, base=2)\n",
    "2 ** np.linspace(1, 4, 5)"
   ]
  },
  {
   "cell_type": "code",
   "execution_count": null,
   "metadata": {
    "collapsed": false
   },
   "outputs": [],
   "source": [
    "np.mgrid[0:5,0:5]\n",
    "np.mgrid[0:13:2, 0:25:3]\n",
    "np.mgrid[0:3, 1:4, 2:5]"
   ]
  },
  {
   "cell_type": "code",
   "execution_count": null,
   "metadata": {
    "collapsed": false
   },
   "outputs": [],
   "source": [
    "np.diag([1,2,3,4])\n",
    "\n",
    "np.diag([1, -1, 1, -1], k=-1)\n",
    "\n",
    "np.diag([[1,2,3],\n",
    "         [4,5,6],\n",
    "         [7,8,9]],k=1)\n",
    "\n",
    "np.zeros((4,3))\n",
    "np.ones((4,3))"
   ]
  },
  {
   "cell_type": "code",
   "execution_count": null,
   "metadata": {
    "collapsed": false
   },
   "outputs": [],
   "source": [
    "MX = np.arange(16).reshape(4,4)\n",
    "MX\n",
    "\n",
    "np.arange(16).reshape(2, 2, 4)\n",
    "\n",
    "np.arange(16).reshape(2, -1)\n",
    "np.arange(16).reshape(-1, 2)\n",
    "\n",
    "np.arange(16).reshape(5, 3)"
   ]
  },
  {
   "cell_type": "code",
   "execution_count": null,
   "metadata": {
    "collapsed": false
   },
   "outputs": [],
   "source": [
    "MX\n",
    "MX[1:3, -2:]\n",
    "MX[:,0]\n",
    "MX[::2,0]\n",
    "MX[1::2,0]"
   ]
  },
  {
   "cell_type": "code",
   "execution_count": null,
   "metadata": {
    "collapsed": false
   },
   "outputs": [],
   "source": [
    "MX[[0,2,3],:]"
   ]
  },
  {
   "cell_type": "code",
   "execution_count": null,
   "metadata": {
    "collapsed": false
   },
   "outputs": [],
   "source": [
    "mask = (MX % 2 == 0)\n",
    "mask\n",
    "indices = np.where(mask)\n",
    "indices\n",
    "MX[indices[0], indices[1]]\n",
    "\n",
    "# Короче\n",
    "MX[MX % 2 == 0]"
   ]
  },
  {
   "cell_type": "code",
   "execution_count": null,
   "metadata": {
    "collapsed": false
   },
   "outputs": [],
   "source": [
    "v = np.array([1, 2, 3, 4, 5, 6])\n",
    "\n",
    "v + 2\n",
    "v * 2\n",
    "v / 2\n",
    "v ** 2\n",
    "v * v"
   ]
  },
  {
   "cell_type": "code",
   "execution_count": null,
   "metadata": {
    "collapsed": false
   },
   "outputs": [],
   "source": [
    "2 ** (v + 3)\n",
    "np.exp(v)\n",
    "np.log(v)\n",
    "np.log1p(v)"
   ]
  },
  {
   "cell_type": "code",
   "execution_count": null,
   "metadata": {
    "collapsed": false
   },
   "outputs": [],
   "source": [
    "A = np.arange(12).reshape(3,-1) % 3\n",
    "A\n",
    "\n",
    "A.T"
   ]
  },
  {
   "cell_type": "code",
   "execution_count": null,
   "metadata": {
    "collapsed": false
   },
   "outputs": [],
   "source": [
    "C = A + 1\n",
    "C\n",
    "\n",
    "A * C\n",
    "A ** C"
   ]
  },
  {
   "cell_type": "code",
   "execution_count": null,
   "metadata": {
    "collapsed": false
   },
   "outputs": [],
   "source": [
    "B = np.arange(8).reshape(4,-1)\n",
    "B\n",
    "\n",
    "A.dot(B)"
   ]
  },
  {
   "cell_type": "code",
   "execution_count": null,
   "metadata": {
    "collapsed": false
   },
   "outputs": [],
   "source": [
    "D = 0.1 * np.diag(np.ones(3))\n",
    "D\n",
    "\n",
    "np.linalg.inv(D)"
   ]
  },
  {
   "cell_type": "code",
   "execution_count": null,
   "metadata": {
    "collapsed": false
   },
   "outputs": [],
   "source": [
    "A = np.arange(12).reshape(4,-1) ** 2\n",
    "A\n",
    "\n",
    "np.mean(A, axis=0)\n",
    "np.std(A, axis=1)\n",
    "\n",
    "A.trace()\n",
    "np.sum(np.diag(A))"
   ]
  },
  {
   "cell_type": "code",
   "execution_count": null,
   "metadata": {
    "collapsed": false
   },
   "outputs": [],
   "source": [
    "v = np.arange(10) % 2\n",
    "v\n",
    "v.shape\n",
    "v.T\n",
    "v.T.shape\n",
    "\n",
    "v[np.newaxis]\n",
    "v[np.newaxis].shape\n",
    "\n",
    "v = v.reshape(1, *v.shape)\n",
    "v.shape\n",
    "v"
   ]
  },
  {
   "cell_type": "code",
   "execution_count": null,
   "metadata": {
    "collapsed": false
   },
   "outputs": [],
   "source": [
    "np.unique(v)"
   ]
  },
  {
   "cell_type": "code",
   "execution_count": null,
   "metadata": {
    "collapsed": false
   },
   "outputs": [],
   "source": [
    "x = np.vstack((v,v))\n",
    "x\n",
    "x.shape\n",
    "\n",
    "y = np.hstack((v,v))\n",
    "y\n",
    "y.shape\n",
    "\n",
    "z = np.stack((v,v))\n",
    "z\n",
    "z.shape"
   ]
  },
  {
   "cell_type": "code",
   "execution_count": null,
   "metadata": {
    "collapsed": false
   },
   "outputs": [],
   "source": [
    "def vectorMul(k, x):\n",
    "    # x is some vector\n",
    "    return x * k\n",
    "\n",
    "vectorized = np.vectorize(vectorMul, excluded=['x'], otypes=[np.ndarray])\n",
    "vectorized(k=np.array([1,3]), x=np.arange(3))"
   ]
  },
  {
   "cell_type": "markdown",
   "metadata": {},
   "source": [
    "## Насколько лучше использовать C/C++ для ресурсоемких расчетов"
   ]
  },
  {
   "cell_type": "markdown",
   "metadata": {},
   "source": [
    "Умножение вектора"
   ]
  },
  {
   "cell_type": "code",
   "execution_count": null,
   "metadata": {
    "collapsed": false
   },
   "outputs": [],
   "source": [
    "def numpyMul(v):\n",
    "    return v * 2\n",
    "\n",
    "def pythonMul(v):\n",
    "    return [x * 2 for x in v]\n",
    "\n",
    "v = np.arange(10000)\n",
    "timeit.timeit(\"numpyMul(v)\", setup=\"from __main__ import numpyMul, v\", number=1000)\n",
    "timeit.timeit(\"pythonMul(v)\", setup=\"from __main__ import pythonMul, v\", number=1000)\n",
    "\n",
    "v = [i for i in range(10000)]\n",
    "timeit.timeit(\"pythonMul(v)\", setup=\"from __main__ import pythonMul, v\", number=1000)"
   ]
  },
  {
   "cell_type": "markdown",
   "metadata": {},
   "source": [
    "Сложение"
   ]
  },
  {
   "cell_type": "code",
   "execution_count": null,
   "metadata": {
    "collapsed": false
   },
   "outputs": [],
   "source": [
    "v = np.arange(10000)\n",
    "timeit.timeit(\"v.sum()\", setup=\"from __main__ import v\", number=1000)\n",
    "\n",
    "v = [i for i in range(10000)]\n",
    "timeit.timeit(\"sum(v)\", setup=\"from __main__ import v\", number=1000)\n"
   ]
  },
  {
   "cell_type": "markdown",
   "metadata": {},
   "source": [
    "Умножение матриц"
   ]
  },
  {
   "cell_type": "code",
   "execution_count": null,
   "metadata": {
    "collapsed": false
   },
   "outputs": [],
   "source": [
    "def numpyMatMul(A, B):\n",
    "    return A.dot(B)\n",
    "\n",
    "def pythonMatMul(A, B):\n",
    "    res = [[0 for _ in range(len(B[0]))] for _ in range(len(A))]\n",
    "    for i in range(len(A)):\n",
    "        for j in range(len(B[0])):\n",
    "            for k in range(len(A[0])):\n",
    "                res[i][j] += A[i][k] * B[k][j]\n",
    "    return res\n",
    "\n",
    "A = np.random.rand(50, 100)\n",
    "B = np.random.rand(100, 20)\n",
    "\n",
    "timeit.timeit(\"numpyMatMul(A, B)\", setup=\"from __main__ import numpyMatMul, A, B\", \n",
    "                   number=100)\n",
    "\n",
    "timeit.timeit(\"pythonMatMul(A, B)\", setup=\"from __main__ import pythonMatMul, A, B\", \n",
    "                   number=100)\n",
    "\n",
    "A = list(map(list, A))\n",
    "B = list(map(list, B))\n",
    "timeit.timeit(\"pythonMatMul(A, B)\", setup=\"from __main__ import pythonMatMul, A, B\", \n",
    "                   number=100)"
   ]
  },
  {
   "cell_type": "markdown",
   "metadata": {},
   "source": [
    "---\n",
    "## Задача 2\n",
    "Заменить максимальный элемент в массиве на ноль. Здесь и далее все массивы заполнять рандомом."
   ]
  },
  {
   "cell_type": "code",
   "execution_count": null,
   "metadata": {
    "collapsed": true
   },
   "outputs": [],
   "source": []
  },
  {
   "cell_type": "markdown",
   "metadata": {},
   "source": [
    "## Задача 3\n",
    "Найти ближайшее к заданному значению число в заданном массиве."
   ]
  },
  {
   "cell_type": "code",
   "execution_count": null,
   "metadata": {
    "collapsed": true
   },
   "outputs": [],
   "source": []
  },
  {
   "cell_type": "markdown",
   "metadata": {},
   "source": [
    "---\n",
    "## scipy"
   ]
  },
  {
   "cell_type": "code",
   "execution_count": null,
   "metadata": {
    "collapsed": false
   },
   "outputs": [],
   "source": [
    "from scipy import integrate\n",
    "\n",
    "integrate.quad(math.sqrt, 0, 4.5)"
   ]
  },
  {
   "cell_type": "code",
   "execution_count": null,
   "metadata": {
    "collapsed": false
   },
   "outputs": [],
   "source": [
    "from scipy import optimize\n",
    "\n",
    "def f(args):\n",
    "    x, y = args\n",
    "    return (x - 2*y)**2 + (x / y) + 16 * math.exp(x * y)\n",
    "\n",
    "optimize.minimize(f, [0.1, 2.5])"
   ]
  },
  {
   "cell_type": "code",
   "execution_count": null,
   "metadata": {
    "collapsed": false
   },
   "outputs": [],
   "source": [
    "from scipy import linalg\n",
    "    \n",
    "A = np.random.randint(10, size=(5, 5))\n",
    "A\n",
    "b = np.arange(3, 12, 2).reshape(1, -1).T\n",
    "b\n",
    "\n",
    "x = linalg.solve(A, b)\n",
    "x\n",
    "A.dot(x)"
   ]
  },
  {
   "cell_type": "code",
   "execution_count": null,
   "metadata": {
    "collapsed": false
   },
   "outputs": [],
   "source": [
    "linalg.det(A)"
   ]
  },
  {
   "cell_type": "code",
   "execution_count": null,
   "metadata": {
    "collapsed": false
   },
   "outputs": [],
   "source": [
    "e_vals, e_vecs = linalg.eig(A)\n",
    "\n",
    "e_vals\n",
    "e_vecs\n",
    "\n",
    "e_val0 = e_vals[0]\n",
    "e_vec0 = e_vecs[:, 0]\n",
    "\n",
    "e_val0\n",
    "e_vec0\n",
    "\n",
    "A.dot(e_vec0) - e_val0 * e_vec0"
   ]
  },
  {
   "cell_type": "code",
   "execution_count": null,
   "metadata": {
    "collapsed": true
   },
   "outputs": [],
   "source": []
  }
 ],
 "metadata": {
  "kernelspec": {
   "display_name": "Python 3",
   "language": "python",
   "name": "python3"
  },
  "language_info": {
   "codemirror_mode": {
    "name": "ipython",
    "version": 3
   },
   "file_extension": ".py",
   "mimetype": "text/x-python",
   "name": "python",
   "nbconvert_exporter": "python",
   "pygments_lexer": "ipython3",
   "version": "3.4.5"
  }
 },
 "nbformat": 4,
 "nbformat_minor": 2
}
