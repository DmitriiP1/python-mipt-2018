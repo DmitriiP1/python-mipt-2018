{
 "cells": [
  {
   "cell_type": "markdown",
   "metadata": {},
   "source": [
    "# Классы"
   ]
  },
  {
   "cell_type": "markdown",
   "metadata": {},
   "source": [
    "## Атрибуты и методы"
   ]
  },
  {
   "cell_type": "code",
   "execution_count": null,
   "metadata": {
    "collapsed": true
   },
   "outputs": [],
   "source": [
    "class MyLittleClass:\n",
    "    color = \"blue\"\n",
    "    \n",
    "    def set_color(self, color_):\n",
    "        color = color_\n",
    "        print('set color to {}'.format(color))\n"
   ]
  },
  {
   "cell_type": "code",
   "execution_count": null,
   "metadata": {
    "collapsed": false
   },
   "outputs": [],
   "source": [
    "obj = MyLittleClass()\n",
    "print(obj.color)\n",
    "\n",
    "obj.set_color('red')\n",
    "print(obj.color)"
   ]
  },
  {
   "cell_type": "markdown",
   "metadata": {},
   "source": [
    "__АаАААааа!!! Почему так произошло?!!!__\n",
    "\n",
    "Потому что обращение к атрибутам класса должно иметь форму `self.attribute_name`, а `color` в методе `set_color` -- просто локальная переменная :)"
   ]
  },
  {
   "cell_type": "code",
   "execution_count": null,
   "metadata": {
    "collapsed": true
   },
   "outputs": [],
   "source": [
    "class MyLittleClass2:\n",
    "    color = \"blue\"\n",
    "    \n",
    "    def set_color(self, color_):\n",
    "        self.color = color_  # найдите десять отличий :)\n",
    "        print('set color to {}'.format(self.color))"
   ]
  },
  {
   "cell_type": "code",
   "execution_count": null,
   "metadata": {
    "collapsed": false
   },
   "outputs": [],
   "source": [
    "obj = MyLittleClass2()\n",
    "print(obj.color)\n",
    "\n",
    "obj.set_color('red')\n",
    "print(obj.color)"
   ]
  },
  {
   "cell_type": "code",
   "execution_count": null,
   "metadata": {
    "collapsed": false
   },
   "outputs": [],
   "source": [
    "# вообще-то, так тоже можно было, но хорошие программисты пишут т.н. методы-геттеры и методы-сеттеры\n",
    "obj.color = 'green'\n",
    "print(obj.color)"
   ]
  },
  {
   "cell_type": "markdown",
   "metadata": {},
   "source": [
    "__Q:__ Динамически определить атрибуты, которых вообще не было в определении класса?\n",
    "\n",
    "__A:__ Легко!"
   ]
  },
  {
   "cell_type": "code",
   "execution_count": null,
   "metadata": {
    "collapsed": false
   },
   "outputs": [],
   "source": [
    "obj.some_attribute = 42\n",
    "print(obj.some_attribute)"
   ]
  },
  {
   "cell_type": "markdown",
   "metadata": {},
   "source": [
    "__Q:__ А а что значит self в определении метода?\n",
    "\n",
    "__A:__ Когда мы вызываем метод как obj.methodname(), первым аргументом передается ссылка на obj (в качестве self)"
   ]
  },
  {
   "cell_type": "code",
   "execution_count": null,
   "metadata": {
    "collapsed": true
   },
   "outputs": [],
   "source": [
    "class MyLittleClass3:\n",
    "    def method_without_self(arg):\n",
    "        print(arg)\n",
    "        \n",
    "    def method_with_self(self, arg):\n",
    "        print(arg)"
   ]
  },
  {
   "cell_type": "code",
   "execution_count": null,
   "metadata": {
    "collapsed": false
   },
   "outputs": [],
   "source": [
    "obj = MyLittleClass3()\n",
    "obj.method_with_self('i am an argument')\n",
    "obj.method_without_self('i am another argument') # здесь мы на самом деле передаем по два аргумента, self и arg"
   ]
  },
  {
   "cell_type": "markdown",
   "metadata": {},
   "source": [
    "__Q:__ А как же тогда их вызывать?!\n",
    "\n",
    "__A:__ Они не привязаны к инстансу (потому что не имеют доступа к его локальным данным), зато привязаны к классу"
   ]
  },
  {
   "cell_type": "code",
   "execution_count": null,
   "metadata": {
    "collapsed": false
   },
   "outputs": [],
   "source": [
    "MyLittleClass3.method_without_self('i am another argument') # а здесь мы передаем только один аргумент"
   ]
  },
  {
   "cell_type": "markdown",
   "metadata": {},
   "source": [
    "__Q:__ Можно ли \"оторвать\" метод от инстанса?\n",
    "\n",
    "__A:__ Ну, попробуем"
   ]
  },
  {
   "cell_type": "code",
   "execution_count": null,
   "metadata": {
    "collapsed": false
   },
   "outputs": [],
   "source": [
    "func = MyLittleClass3.method_without_self\n",
    "func(\"hello\")"
   ]
  },
  {
   "cell_type": "code",
   "execution_count": null,
   "metadata": {
    "collapsed": false
   },
   "outputs": [],
   "source": [
    "func2 = MyLittleClass3.method_with_self\n",
    "func2(\"hello\") # передаем один аргумент"
   ]
  },
  {
   "cell_type": "code",
   "execution_count": null,
   "metadata": {
    "collapsed": false
   },
   "outputs": [],
   "source": [
    "obj = MyLittleClass3()\n",
    "func2(obj, \"hello\") # ой, нам же ещё нужен объект для self!"
   ]
  },
  {
   "cell_type": "markdown",
   "metadata": {},
   "source": [
    "__Q:__ А наоборот?\n",
    "\n",
    "__A:__ Да это же питон. Конечно, можно!"
   ]
  },
  {
   "cell_type": "code",
   "execution_count": null,
   "metadata": {
    "collapsed": false
   },
   "outputs": [],
   "source": [
    "obj.get_color()"
   ]
  },
  {
   "cell_type": "code",
   "execution_count": null,
   "metadata": {
    "collapsed": false
   },
   "outputs": [],
   "source": [
    "def get_color_function(self):\n",
    "    return self.color\n",
    "\n",
    "MyLittleClass3.get_color = get_color_function\n",
    "obj = MyLittleClass3()\n",
    "obj.get_color()"
   ]
  },
  {
   "cell_type": "markdown",
   "metadata": {},
   "source": [
    "Ах да, цвета-то у нас нет. Но не беда, это же питон!"
   ]
  },
  {
   "cell_type": "code",
   "execution_count": null,
   "metadata": {
    "collapsed": false
   },
   "outputs": [],
   "source": [
    "obj.color = 'pink'\n",
    "obj.get_color()"
   ]
  },
  {
   "cell_type": "markdown",
   "metadata": {},
   "source": [
    "__Q:__ А как же узнать, что мы уже определили, а что нет?\n",
    "\n",
    "__A:__ Легко!"
   ]
  },
  {
   "cell_type": "code",
   "execution_count": null,
   "metadata": {
    "collapsed": false
   },
   "outputs": [],
   "source": [
    "print(dir(obj))"
   ]
  },
  {
   "cell_type": "code",
   "execution_count": null,
   "metadata": {
    "collapsed": false
   },
   "outputs": [],
   "source": [
    "# оставим только методы\n",
    "print([name for name in dir(obj) if callable(getattr(obj, name))])"
   ]
  },
  {
   "cell_type": "code",
   "execution_count": null,
   "metadata": {
    "collapsed": false
   },
   "outputs": [],
   "source": [
    "class ClassWithNothing:\n",
    "    pass\n",
    "\n",
    "nobject = ClassWithNothing()\n",
    "\n",
    "def print_custom_attrs(obj=None):\n",
    "    if obj is None:\n",
    "        # в локальной области видимости!\n",
    "        attrs = dir()\n",
    "    else:\n",
    "        attrs = dir(obj)\n",
    "    print([name for name in attrs if not name.startswith('__')])\n",
    "    \n",
    "print_custom_attrs(nobject)\n",
    "print_custom_attrs(ClassWithNothing)\n",
    "print_custom_attrs()\n",
    "print(dir())"
   ]
  },
  {
   "cell_type": "code",
   "execution_count": null,
   "metadata": {
    "collapsed": false
   },
   "outputs": [],
   "source": [
    "ClassWithNothing.my_attribute = 'my value'\n",
    "nobject.my_instance_attribute = \"my value 2\"\n",
    "\n",
    "print_custom_attrs(nobject)\n",
    "print_custom_attrs(ClassWithNothing)"
   ]
  },
  {
   "cell_type": "markdown",
   "metadata": {},
   "source": [
    "## Наследование"
   ]
  },
  {
   "cell_type": "code",
   "execution_count": null,
   "metadata": {
    "collapsed": true
   },
   "outputs": [],
   "source": [
    "class Animal:\n",
    "    some_value = \"animal\"\n",
    "    def __init__(self):\n",
    "        print(\"i am an animal\")\n",
    "    \n",
    "    def speak(self):\n",
    "        raise NotImplementedError('i don\\'t know how to speak')\n",
    "\n",
    "        \n",
    "class Cat(Animal):\n",
    "    some_value = \"cat\"\n",
    "    def __init__(self):\n",
    "        super().__init__()\n",
    "        print(\"i am a cat\")\n",
    "    \n",
    "    def speak(self):\n",
    "        print('meoooow')\n",
    "\n",
    "        \n",
    "class Hedgehog(Animal):\n",
    "    def __init__(self):\n",
    "        super().__init__()\n",
    "        print(\"i am a hedgehog\")\n",
    "\n",
    "        \n",
    "class Dog(Animal):\n",
    "    some_value = \"dog\"\n",
    "    def __init__(self):\n",
    "        super().__init__()\n",
    "        print(\"i am a dog\")\n",
    "\n",
    "        \n",
    "class CatDog(Cat, Dog):  # ромбовидное наследование возможно, но не делайте так, пожалуйста!\n",
    "    def __init__(self):\n",
    "        super().__init__()\n",
    "        print(\"i am a CatDog!\")"
   ]
  },
  {
   "cell_type": "code",
   "execution_count": null,
   "metadata": {
    "collapsed": false
   },
   "outputs": [],
   "source": [
    "animal = Animal()\n",
    "animal.some_value"
   ]
  },
  {
   "cell_type": "code",
   "execution_count": null,
   "metadata": {
    "collapsed": false
   },
   "outputs": [],
   "source": [
    "cat = Cat()\n",
    "cat.some_value # переопределено"
   ]
  },
  {
   "cell_type": "code",
   "execution_count": null,
   "metadata": {
    "collapsed": false
   },
   "outputs": [],
   "source": [
    "hedgehog = Hedgehog()\n",
    "hedgehog.some_value # не переопределено"
   ]
  },
  {
   "cell_type": "code",
   "execution_count": null,
   "metadata": {
    "collapsed": false
   },
   "outputs": [],
   "source": [
    "dog = Dog()\n",
    "dog.some_value # переопределено"
   ]
  },
  {
   "cell_type": "code",
   "execution_count": null,
   "metadata": {
    "collapsed": false
   },
   "outputs": [],
   "source": [
    "catdog = CatDog()\n",
    "catdog.some_value"
   ]
  },
  {
   "cell_type": "markdown",
   "metadata": {},
   "source": [
    "__Q:__ А как определяется порядок?\n",
    "    \n",
    "__A:__ Порядок перечисления родителей важен!"
   ]
  },
  {
   "cell_type": "code",
   "execution_count": null,
   "metadata": {
    "collapsed": false
   },
   "outputs": [],
   "source": [
    "class CatDog(Dog, Cat):  # теперь наоборот, найдите два отличия!\n",
    "    def __init__(self):\n",
    "        super().__init__()\n",
    "        print(\"i am a CatDog!\")\n",
    "\n",
    "catdog = CatDog()\n",
    "catdog.some_value"
   ]
  },
  {
   "cell_type": "markdown",
   "metadata": {},
   "source": [
    "__Q:__ А что с методами?\n",
    "    \n",
    "__A:__ Всё то же, что и с атрибутами!"
   ]
  },
  {
   "cell_type": "code",
   "execution_count": null,
   "metadata": {
    "collapsed": false
   },
   "outputs": [],
   "source": [
    "cat.speak() # переопределено\n",
    "dog.speak() # не переопределено"
   ]
  },
  {
   "cell_type": "markdown",
   "metadata": {},
   "source": [
    "## Приватность?"
   ]
  },
  {
   "cell_type": "code",
   "execution_count": null,
   "metadata": {
    "collapsed": true
   },
   "outputs": [],
   "source": [
    "class VeryPrivateDataHolder:\n",
    "    _secret = 1\n",
    "    __very_secret = 2"
   ]
  },
  {
   "cell_type": "code",
   "execution_count": null,
   "metadata": {
    "collapsed": false
   },
   "outputs": [],
   "source": [
    "obj = VeryPrivateDataHolder()\n",
    "print(obj._secret)\n",
    "print(obj.__very_secret)"
   ]
  },
  {
   "cell_type": "markdown",
   "metadata": {},
   "source": [
    "__Q:__ То есть, в питоне всё-таки есть приватность?\n",
    "\n",
    "__A:__ Ну..."
   ]
  },
  {
   "cell_type": "code",
   "execution_count": null,
   "metadata": {
    "collapsed": false
   },
   "outputs": [],
   "source": [
    "obj._VeryPrivateDataHolder__very_secret  # а так вообще никогда не делайте, особенно с чужими классами"
   ]
  },
  {
   "cell_type": "code",
   "execution_count": null,
   "metadata": {
    "collapsed": false
   },
   "outputs": [],
   "source": [
    "obj._VeryPrivateDataHolder__very_secret = 'new secret'\n",
    "obj._VeryPrivateDataHolder__very_secret"
   ]
  },
  {
   "cell_type": "markdown",
   "metadata": {},
   "source": [
    "# Генераторы и итераторы: повторение с новой точки зрения"
   ]
  },
  {
   "cell_type": "markdown",
   "metadata": {},
   "source": [
    "В теории всё выглядит как-то так:\n",
    "\n",
    "1. Итератор -- это объект, у которого есть методы `__iter__` и `next`.\n",
    "\n",
    "2. Генератор -- это результат работы функции, которая... генерирует. Например, с помощью `yield`. Это упрощает создание итераторов.\n",
    "\n",
    "3. Каждый генератор является итератором (неявно реализует интерфейс итератора). Обратное, конечно, неверно. "
   ]
  },
  {
   "cell_type": "markdown",
   "metadata": {},
   "source": [
    "На практике всё, к счастью, выглядит несколько понятнее. Ниже -- типичный итератор, вид \"из-под капота\":"
   ]
  },
  {
   "cell_type": "code",
   "execution_count": null,
   "metadata": {
    "collapsed": true
   },
   "outputs": [],
   "source": [
    "class my_range_iterator:\n",
    "    def __init__(self, n_max):\n",
    "        self.i = 0\n",
    "        self.n_max = n_max\n",
    "\n",
    "    def __iter__(self):\n",
    "        # да, он почти всегда выглядит именно так\n",
    "        # потому что у генераторов тоже есть такой метод, который возвращает соответствующий итератор\n",
    "        return self\n",
    "\n",
    "    def __next__(self):\n",
    "        if self.i < self.n_max:\n",
    "            i = self.i\n",
    "            self.i += 1\n",
    "            return i\n",
    "        else:\n",
    "            # специальное исключение, которое означает \"элементы кончились!\"\n",
    "            # впрочем, может никогда и не бросаться\n",
    "            raise StopIteration()"
   ]
  },
  {
   "cell_type": "code",
   "execution_count": null,
   "metadata": {
    "collapsed": false
   },
   "outputs": [],
   "source": [
    "iterator_obj = my_range_iterator(3)\n",
    "print(iterator_obj.__next__())\n",
    "print(iterator_obj.__next__())\n",
    "print(iterator_obj.__next__())\n",
    "print(iterator_obj.__next__())\n",
    "print(iterator_obj.__next__())"
   ]
  },
  {
   "cell_type": "markdown",
   "metadata": {},
   "source": [
    "__Q:__ И что, чтобы им пользоваться, надо ловить исключения?\n",
    "\n",
    "__A:__ Конечно, нет! Это non-pythonic way"
   ]
  },
  {
   "cell_type": "code",
   "execution_count": null,
   "metadata": {
    "collapsed": false
   },
   "outputs": [],
   "source": [
    "iterator_obj = my_range_iterator(3)\n",
    "print(type(iterator_obj))\n",
    "for x in iterator_obj:\n",
    "    print(x)"
   ]
  },
  {
   "cell_type": "code",
   "execution_count": null,
   "metadata": {
    "collapsed": true
   },
   "outputs": [],
   "source": [
    "for x in iterator_obj:\n",
    "    print(x)"
   ]
  },
  {
   "cell_type": "markdown",
   "metadata": {},
   "source": [
    "__Q:__ Повторно использовать нельзя?!\n",
    "\n",
    "__A:__ Объект итератора, как можно понять из кода, хранит своё состояние. Он уже выдал нам всё, что должен был"
   ]
  },
  {
   "cell_type": "code",
   "execution_count": null,
   "metadata": {
    "collapsed": true
   },
   "outputs": [],
   "source": [
    "def my_range_generator(n_max):\n",
    "    i = 0\n",
    "    while i < n_max:\n",
    "        yield i\n",
    "        i += 1"
   ]
  },
  {
   "cell_type": "code",
   "execution_count": null,
   "metadata": {
    "collapsed": false
   },
   "outputs": [],
   "source": [
    "generator_obj = my_range_generator(3)\n",
    "print(type(generator_obj))\n",
    "# мы не определяли магических функций итератора, но...\n",
    "print(generator_obj.__iter__)\n",
    "print(generator_obj.__iter__())\n",
    "print(generator_obj.__next__)"
   ]
  },
  {
   "cell_type": "code",
   "execution_count": null,
   "metadata": {
    "collapsed": false
   },
   "outputs": [],
   "source": [
    "for x in generator_obj:\n",
    "    print(x)"
   ]
  },
  {
   "cell_type": "code",
   "execution_count": null,
   "metadata": {
    "collapsed": true
   },
   "outputs": [],
   "source": [
    "for x in generator_obj:\n",
    "    print(x)"
   ]
  },
  {
   "cell_type": "markdown",
   "metadata": {},
   "source": [
    "__Q:__ А чем отличается практическое использование?\n",
    "\n",
    "__A:__ Как правило, почти ничем"
   ]
  },
  {
   "cell_type": "code",
   "execution_count": null,
   "metadata": {
    "collapsed": false
   },
   "outputs": [],
   "source": [
    "print(sum(my_range_generator(5)))\n",
    "print(sum(my_range_iterator(5)))"
   ]
  },
  {
   "cell_type": "markdown",
   "metadata": {},
   "source": [
    "## В следующей серии: magic methods. Будет много магии!"
   ]
  },
  {
   "cell_type": "code",
   "execution_count": null,
   "metadata": {
    "collapsed": true
   },
   "outputs": [],
   "source": []
  }
 ],
 "metadata": {
  "kernelspec": {
   "display_name": "Python 3",
   "language": "python",
   "name": "python3"
  },
  "language_info": {
   "codemirror_mode": {
    "name": "ipython",
    "version": 3
   },
   "file_extension": ".py",
   "mimetype": "text/x-python",
   "name": "python",
   "nbconvert_exporter": "python",
   "pygments_lexer": "ipython3",
   "version": "3.4.5"
  }
 },
 "nbformat": 4,
 "nbformat_minor": 2
}
