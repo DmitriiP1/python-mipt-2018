{
 "cells": [
  {
   "cell_type": "markdown",
   "metadata": {
    "slideshow": {
     "slide_type": "slide"
    }
   },
   "source": [
    "<center> \n",
    "<h1>Семинар №2</h1>\n",
    "<br>\n",
    "<h2>Контейнеры, итераторы, генераторы<h2>\n",
    "</center>"
   ]
  },
  {
   "cell_type": "markdown",
   "metadata": {
    "slideshow": {
     "slide_type": "slide"
    }
   },
   "source": [
    "<h2>Содержание:</h2>\n",
    "* <h3>Списки</h3>\n",
    "    * Определение\n",
    "    * Встроенные функции\n",
    "    * Списковые выражения\n",
    "* <h3>Кортежи</h3>\n",
    "    * Определение\n",
    "    * Встроенные функции\n",
    "* <h3>Mutable vs. immutable</h3>"
   ]
  },
  {
   "cell_type": "markdown",
   "metadata": {
    "slideshow": {
     "slide_type": "slide"
    }
   },
   "source": [
    "<h2>Содержание(cont)</h2>\n",
    "* <h3>Множества</h3>\n",
    "    * Определение\n",
    "    * Встроенные функции\n",
    "    * Операции над множествами\n",
    "* <h3>Словари</h3>\n",
    "    * Определение\n",
    "    * Встроенные функции\n",
    "    * Словарные выражения\n",
    "* <h3>Итераторы</h3>\n",
    "* <h3>Генераторы</h3>"
   ]
  },
  {
   "cell_type": "markdown",
   "metadata": {
    "slideshow": {
     "slide_type": "slide"
    }
   },
   "source": [
    "<h2>Списки (lists)</h2>\n",
    "<br>\n",
    "Официальная документация: <a>https://docs.python.org/3/library/stdtypes.html#list</a>\n",
    "<br>\n",
    "Какой-то туториал на русском: <a>https://pythonworld.ru/tipy-dannyx-v-python/spiski-list-funkcii-i-metody-spiskov.html</a>"
   ]
  },
  {
   "cell_type": "code",
   "execution_count": null,
   "metadata": {
    "collapsed": true,
    "slideshow": {
     "slide_type": "subslide"
    }
   },
   "outputs": [],
   "source": [
    "empty_list = []\n",
    "empty_list = list()"
   ]
  },
  {
   "cell_type": "code",
   "execution_count": null,
   "metadata": {
    "collapsed": false,
    "slideshow": {
     "slide_type": "subslide"
    }
   },
   "outputs": [],
   "source": [
    "uniform_list = [1, 2, 3, 4]\n",
    "print(uniform_list)"
   ]
  },
  {
   "cell_type": "code",
   "execution_count": null,
   "metadata": {
    "collapsed": false,
    "slideshow": {
     "slide_type": "subslide"
    }
   },
   "outputs": [],
   "source": [
    "weird_list = [1, 2, \"fizz\", 4, list(\"buzz\")]\n",
    "print(weird_list)\n",
    "weird_list[4] = \"buzz\"\n",
    "print(weird_list)"
   ]
  },
  {
   "cell_type": "markdown",
   "metadata": {
    "slideshow": {
     "slide_type": "slide"
    }
   },
   "source": [
    "Это было не слишком интересно, поэтому перейдём к более весёлым вещам."
   ]
  },
  {
   "cell_type": "code",
   "execution_count": null,
   "metadata": {
    "collapsed": false,
    "slideshow": {
     "slide_type": "subslide"
    }
   },
   "outputs": [],
   "source": [
    "human_var = [\"human\"]\n",
    "human_centipede = human_var + human_var + human_var\n",
    "print(human_centipede)"
   ]
  },
  {
   "cell_type": "code",
   "execution_count": null,
   "metadata": {
    "collapsed": false,
    "slideshow": {
     "slide_type": "subslide"
    }
   },
   "outputs": [],
   "source": [
    "human_centipede = human_var * 3\n",
    "print(human_centipede)"
   ]
  },
  {
   "cell_type": "code",
   "execution_count": null,
   "metadata": {
    "collapsed": false,
    "slideshow": {
     "slide_type": "subslide"
    }
   },
   "outputs": [],
   "source": [
    "print(\"human\" in human_centipede)\n",
    "print(\"man\" not in human_centipede)"
   ]
  },
  {
   "cell_type": "markdown",
   "metadata": {
    "slideshow": {
     "slide_type": "slide"
    }
   },
   "source": [
    "<h2>Срезы (slices)</h2>"
   ]
  },
  {
   "cell_type": "code",
   "execution_count": null,
   "metadata": {
    "collapsed": false,
    "slideshow": {
     "slide_type": "subslide"
    }
   },
   "outputs": [],
   "source": [
    "list_to_slice = [0, 1, 2, 3, 4, 5, 6]\n",
    "print(list_to_slice[1:3])"
   ]
  },
  {
   "cell_type": "code",
   "execution_count": null,
   "metadata": {
    "collapsed": false,
    "slideshow": {
     "slide_type": "subslide"
    }
   },
   "outputs": [],
   "source": [
    "print(list_to_slice[:3])\n",
    "print(list_to_slice[1:])"
   ]
  },
  {
   "cell_type": "code",
   "execution_count": null,
   "metadata": {
    "collapsed": false,
    "slideshow": {
     "slide_type": "subslide"
    }
   },
   "outputs": [],
   "source": [
    "print(list_to_slice[1:6:2])\n",
    "print(list_to_slice[:4:2])"
   ]
  },
  {
   "cell_type": "code",
   "execution_count": null,
   "metadata": {
    "collapsed": false,
    "slideshow": {
     "slide_type": "subslide"
    }
   },
   "outputs": [],
   "source": [
    "print(list_to_slice[::-1])\n",
    "print(list_to_slice[:])"
   ]
  },
  {
   "cell_type": "markdown",
   "metadata": {
    "slideshow": {
     "slide_type": "slide"
    }
   },
   "source": [
    "<h2>Другие необходимые функции</h2>"
   ]
  },
  {
   "cell_type": "code",
   "execution_count": null,
   "metadata": {
    "collapsed": false,
    "slideshow": {
     "slide_type": "subslide"
    }
   },
   "outputs": [],
   "source": [
    "list_function_testing = list(\"abcdefg\")\n",
    "list_function_testing.append(\"alphabet!\")\n",
    "print(list_function_testing)"
   ]
  },
  {
   "cell_type": "code",
   "execution_count": null,
   "metadata": {
    "collapsed": false,
    "slideshow": {
     "slide_type": "subslide"
    }
   },
   "outputs": [],
   "source": [
    "del list_function_testing[0]\n",
    "print(list_function_testing)"
   ]
  },
  {
   "cell_type": "code",
   "execution_count": null,
   "metadata": {
    "collapsed": false,
    "slideshow": {
     "slide_type": "subslide"
    }
   },
   "outputs": [],
   "source": [
    "list_function_testing.insert(0, \"a\")\n",
    "print(list_function_testing)"
   ]
  },
  {
   "cell_type": "code",
   "execution_count": null,
   "metadata": {
    "collapsed": false,
    "slideshow": {
     "slide_type": "subslide"
    }
   },
   "outputs": [],
   "source": [
    "list_function_testing.remove(\"alphabet!\")\n",
    "print(list_function_testing)"
   ]
  },
  {
   "cell_type": "code",
   "execution_count": null,
   "metadata": {
    "collapsed": false,
    "slideshow": {
     "slide_type": "subslide"
    }
   },
   "outputs": [],
   "source": [
    "print([i ** 2 for i in range(5)])"
   ]
  },
  {
   "cell_type": "code",
   "execution_count": null,
   "metadata": {
    "collapsed": false,
    "slideshow": {
     "slide_type": "subslide"
    }
   },
   "outputs": [],
   "source": [
    "print([i for i in range(7) if i % 3 == 0])"
   ]
  },
  {
   "cell_type": "markdown",
   "metadata": {
    "slideshow": {
     "slide_type": "slide"
    }
   },
   "source": [
    "<h2>Сортировка</h2>"
   ]
  },
  {
   "cell_type": "code",
   "execution_count": null,
   "metadata": {
    "collapsed": false,
    "slideshow": {
     "slide_type": "subslide"
    }
   },
   "outputs": [],
   "source": [
    "unsorted_list = [5, 3, 7, 2, -1, 4, 34.2]\n",
    "print(unsorted_list.sort())\n",
    "print(unsorted_list)"
   ]
  },
  {
   "cell_type": "code",
   "execution_count": null,
   "metadata": {
    "collapsed": false,
    "slideshow": {
     "slide_type": "subslide"
    }
   },
   "outputs": [],
   "source": [
    "unsorted_list = [5, 3, 7, 2, -1, 4, 34.2]\n",
    "print(sorted(unsorted_list))\n",
    "print(unsorted_list)"
   ]
  },
  {
   "cell_type": "markdown",
   "metadata": {
    "slideshow": {
     "slide_type": "slide"
    }
   },
   "source": [
    "<h2>Кортежи (tuples)</h2>\n",
    "<br>\n",
    "Официальная документация: <a>https://docs.python.org/3/library/stdtypes.html#tuple</a>\n",
    "<br>\n",
    "Какой-то туториал на русском: <a>https://pythonworld.ru/tipy-dannyx-v-python/kortezhi-tuple.html</a>"
   ]
  },
  {
   "cell_type": "code",
   "execution_count": null,
   "metadata": {
    "collapsed": true,
    "slideshow": {
     "slide_type": "subslide"
    }
   },
   "outputs": [],
   "source": [
    "empty_tuple = ()\n",
    "empty_tuple = tuple()"
   ]
  },
  {
   "cell_type": "code",
   "execution_count": null,
   "metadata": {
    "collapsed": false,
    "slideshow": {
     "slide_type": "subslide"
    }
   },
   "outputs": [],
   "source": [
    "uniform_tuple = (1, 2, 3, 4)\n",
    "weird_tuple = (1, 2, \"three\", (4.0, 5/1))\n",
    "print(uniform_tuple)\n",
    "print(weird_tuple)"
   ]
  },
  {
   "cell_type": "code",
   "execution_count": null,
   "metadata": {
    "collapsed": false,
    "slideshow": {
     "slide_type": "subslide"
    }
   },
   "outputs": [],
   "source": [
    "weird_tuple[2] = 3"
   ]
  },
  {
   "cell_type": "code",
   "execution_count": null,
   "metadata": {
    "collapsed": true,
    "scrolled": false,
    "slideshow": {
     "slide_type": "subslide"
    }
   },
   "outputs": [],
   "source": [
    "cheating_tuple = (1, [2, 3, 4])\n",
    "print(cheating_tuple)\n",
    "cheating_tuple[1][0] = 1\n",
    "print(cheating_tuple)"
   ]
  },
  {
   "cell_type": "markdown",
   "metadata": {
    "slideshow": {
     "slide_type": "subslide"
    }
   },
   "source": [
    "А разгадка одна: кортеж хранит <b>ссылку</b> на список, а не его значения."
   ]
  },
  {
   "cell_type": "markdown",
   "metadata": {
    "collapsed": true,
    "slideshow": {
     "slide_type": "slide"
    }
   },
   "source": [
    "<h2>Mutable vs. immutable</h2>"
   ]
  },
  {
   "cell_type": "markdown",
   "metadata": {
    "slideshow": {
     "slide_type": "slide"
    }
   },
   "source": [
    "int, float, complex, bool, str, tuple, frozenset\n",
    "\n",
    "При попытке совершить мутирующую операцию с неизменяемым объектом может произойти одна из двух вещей:\n",
    " - Произойдет создание измененной копии объекта (оператор += )\n",
    " - Произойдет ошибка (оператор [])\n"
   ]
  },
  {
   "cell_type": "markdown",
   "metadata": {
    "slideshow": {
     "slide_type": "slide"
    }
   },
   "source": [
    "## Боль из-за особенностей mutable и immutable\n"
   ]
  },
  {
   "cell_type": "code",
   "execution_count": null,
   "metadata": {
    "collapsed": false,
    "slideshow": {
     "slide_type": "subslide"
    }
   },
   "outputs": [],
   "source": [
    "def do_sth(x, l=[]):\n",
    "   l.append(x)\n",
    "   print (l)\n",
    "    \n",
    "do_sth('Meow!')\n",
    "do_sth('Bark!')"
   ]
  },
  {
   "cell_type": "markdown",
   "metadata": {
    "slideshow": {
     "slide_type": "subslide"
    }
   },
   "source": [
    "<h2>Делаем нормально</h2>\n",
    "<br>\n",
    "Не используем mutable типы в качестве дефолтных аргументов."
   ]
  },
  {
   "cell_type": "code",
   "execution_count": null,
   "metadata": {
    "collapsed": false,
    "slideshow": {
     "slide_type": "subslide"
    }
   },
   "outputs": [],
   "source": [
    "def do_sth(x, l=''):\n",
    "   l += x\n",
    "   print (l)\n",
    "    \n",
    "do_sth('Meow!')\n",
    "do_sth('Bark!')"
   ]
  },
  {
   "cell_type": "code",
   "execution_count": null,
   "metadata": {
    "collapsed": false,
    "slideshow": {
     "slide_type": "subslide"
    }
   },
   "outputs": [],
   "source": [
    "life_is_pain = [[0] * 3] * 3\n",
    "print(life_is_pain)"
   ]
  },
  {
   "cell_type": "code",
   "execution_count": null,
   "metadata": {
    "collapsed": false,
    "slideshow": {
     "slide_type": "subslide"
    }
   },
   "outputs": [],
   "source": [
    "life_is_pain[0][0] = 1\n",
    "print(life_is_pain)"
   ]
  },
  {
   "cell_type": "markdown",
   "metadata": {
    "slideshow": {
     "slide_type": "slide"
    }
   },
   "source": [
    "<h2>Делаем нормально</h2>\n",
    "<br>\n",
    "От ссылок на один и то же список нас спасут <b>списковые выражения (list comprehensions)</b>"
   ]
  },
  {
   "cell_type": "code",
   "execution_count": null,
   "metadata": {
    "collapsed": false,
    "slideshow": {
     "slide_type": "subslide"
    }
   },
   "outputs": [],
   "source": [
    "life_is_good = [[0] * 3 for _ in range(3)]\n",
    "print(life_is_good)"
   ]
  },
  {
   "cell_type": "code",
   "execution_count": null,
   "metadata": {
    "collapsed": false,
    "slideshow": {
     "slide_type": "subslide"
    }
   },
   "outputs": [],
   "source": [
    "life_is_good[0][0] = 1\n",
    "print(life_is_good)"
   ]
  },
  {
   "cell_type": "code",
   "execution_count": null,
   "metadata": {
    "collapsed": false,
    "slideshow": {
     "slide_type": "subslide"
    }
   },
   "outputs": [],
   "source": [
    "a=[1,2,3]\n",
    "b=a[:2]\n",
    "print('b:', b)\n",
    "b[0]=10\n",
    "print('a:', a)\n",
    "a[0]=[]\n",
    "print('a:', a)\n",
    "b=a[:2]\n",
    "b[0].append(1)\n",
    "print('a:', a)"
   ]
  },
  {
   "cell_type": "markdown",
   "metadata": {
    "slideshow": {
     "slide_type": "slide"
    }
   },
   "source": [
    "<h2>Множества (sets)</h2>\n",
    "<br>\n",
    "Снова, официальная документация: https://docs.python.org/3/library/stdtypes.html#set"
   ]
  },
  {
   "cell_type": "code",
   "execution_count": null,
   "metadata": {
    "collapsed": true,
    "slideshow": {
     "slide_type": "subslide"
    }
   },
   "outputs": [],
   "source": [
    "empty_set = {}\n",
    "empty_set = set()"
   ]
  },
  {
   "cell_type": "code",
   "execution_count": null,
   "metadata": {
    "collapsed": false,
    "slideshow": {
     "slide_type": "subslide"
    }
   },
   "outputs": [],
   "source": [
    "ordinary_set = {1, 2, 3, 3, \"wow\", \"cool\", \"wow\"}\n",
    "print(ordinary_set)"
   ]
  },
  {
   "cell_type": "code",
   "execution_count": null,
   "metadata": {
    "collapsed": false,
    "slideshow": {
     "slide_type": "subslide"
    }
   },
   "outputs": [],
   "source": [
    "print(\"wow\" in ordinary_set)\n",
    "print(\"not cool\" in ordinary_set)"
   ]
  },
  {
   "cell_type": "markdown",
   "metadata": {
    "slideshow": {
     "slide_type": "slide"
    }
   },
   "source": [
    "Множества поддерживают весёлые операции алгебры множеств."
   ]
  },
  {
   "cell_type": "code",
   "execution_count": null,
   "metadata": {
    "collapsed": false,
    "slideshow": {
     "slide_type": "subslide"
    }
   },
   "outputs": [],
   "source": [
    "set_a = {1, 3, 5, 7, 9}\n",
    "set_b = {0, 2, 4, 6, 8, 9}\n",
    "smol_set = {9}\n",
    "\n",
    "print(set_a & set_b)\n",
    "print(set_a | set_b)\n",
    "print(set_a - set_b)\n",
    "print(set_a ^ set_b)"
   ]
  },
  {
   "cell_type": "code",
   "execution_count": null,
   "metadata": {
    "collapsed": false,
    "slideshow": {
     "slide_type": "subslide"
    }
   },
   "outputs": [],
   "source": [
    "print(smol_set < set_a)\n",
    "print(smol_set <= set_b)"
   ]
  },
  {
   "cell_type": "code",
   "execution_count": null,
   "metadata": {
    "collapsed": false,
    "slideshow": {
     "slide_type": "subslide"
    }
   },
   "outputs": [],
   "source": [
    "set_a.update(set_b)\n",
    "print(set_a)"
   ]
  },
  {
   "cell_type": "code",
   "execution_count": null,
   "metadata": {
    "collapsed": false,
    "slideshow": {
     "slide_type": "subslide"
    }
   },
   "outputs": [],
   "source": [
    "set_a.remove(3)\n",
    "print(set_a)"
   ]
  },
  {
   "cell_type": "code",
   "execution_count": null,
   "metadata": {
    "collapsed": false,
    "slideshow": {
     "slide_type": "subslide"
    }
   },
   "outputs": [],
   "source": [
    "set_a.remove(3)"
   ]
  },
  {
   "cell_type": "code",
   "execution_count": null,
   "metadata": {
    "collapsed": true,
    "slideshow": {
     "slide_type": "subslide"
    }
   },
   "outputs": [],
   "source": [
    "set_a.discard(3)"
   ]
  },
  {
   "cell_type": "markdown",
   "metadata": {
    "slideshow": {
     "slide_type": "slide"
    }
   },
   "source": [
    "<h2>Словари (dicts)</h2>\n",
    "<br>\n",
    "Официальная документация: https://docs.python.org/3/library/stdtypes.html#dict"
   ]
  },
  {
   "cell_type": "code",
   "execution_count": null,
   "metadata": {
    "collapsed": false,
    "slideshow": {
     "slide_type": "slide"
    }
   },
   "outputs": [],
   "source": [
    "empty_dict = dict()\n",
    "\n",
    "planet_dict = {\n",
    "    \"Mercury\": 6440,\n",
    "    \"Venus\": 6052,\n",
    "    \"Earth\": 6378,\n",
    "    \"Mars\": 3397,\n",
    "    \"Jupiter\": 71490,\n",
    "    \"Saturn\": 60270,\n",
    "    \"Uranus\": 25560,\n",
    "    \"Neptune\": 24760\n",
    "}\n",
    "print(planet_dict[\"Mars\"])"
   ]
  },
  {
   "cell_type": "code",
   "execution_count": null,
   "metadata": {
    "collapsed": false,
    "slideshow": {
     "slide_type": "slide"
    }
   },
   "outputs": [],
   "source": [
    "planet_dict[\"Mercury\"] = 2440\n",
    "planet_dict"
   ]
  },
  {
   "cell_type": "code",
   "execution_count": null,
   "metadata": {
    "collapsed": false,
    "slideshow": {
     "slide_type": "slide"
    }
   },
   "outputs": [],
   "source": [
    "planet_dict[\"Pluto\"] = 1151\n",
    "planet_dict"
   ]
  },
  {
   "cell_type": "code",
   "execution_count": null,
   "metadata": {
    "collapsed": false,
    "slideshow": {
     "slide_type": "slide"
    }
   },
   "outputs": [],
   "source": [
    "del planet_dict[\"Pluto\"]\n",
    "planet_dict"
   ]
  },
  {
   "cell_type": "code",
   "execution_count": null,
   "metadata": {
    "collapsed": false,
    "slideshow": {
     "slide_type": "slide"
    }
   },
   "outputs": [],
   "source": [
    "print(\"Earth\" in planet_dict)\n",
    "print(\"Pluto\" in planet_dict)"
   ]
  },
  {
   "cell_type": "code",
   "execution_count": null,
   "metadata": {
    "collapsed": false,
    "slideshow": {
     "slide_type": "slide"
    }
   },
   "outputs": [],
   "source": [
    "planet_dict[\"Earth\"] += 1337\n",
    "planet_dict"
   ]
  },
  {
   "cell_type": "code",
   "execution_count": null,
   "metadata": {
    "collapsed": false,
    "slideshow": {
     "slide_type": "slide"
    }
   },
   "outputs": [],
   "source": [
    "planet_dict[\"Pluto\"] += 1337"
   ]
  },
  {
   "cell_type": "markdown",
   "metadata": {
    "slideshow": {
     "slide_type": "slide"
    }
   },
   "source": [
    "Для таких ситуаций можно пользоваться defaultdict:"
   ]
  },
  {
   "cell_type": "code",
   "execution_count": null,
   "metadata": {
    "collapsed": false,
    "slideshow": {
     "slide_type": "slide"
    }
   },
   "outputs": [],
   "source": [
    "from collections import defaultdict\n",
    "\n",
    "planet_dict_default = defaultdict(int)\n",
    "planet_dict_default[\"Pluto\"] += 1151\n",
    "planet_dict_default"
   ]
  },
  {
   "cell_type": "code",
   "execution_count": null,
   "metadata": {
    "collapsed": false,
    "slideshow": {
     "slide_type": "slide"
    }
   },
   "outputs": [],
   "source": [
    "print(planet_dict.keys())\n",
    "print(planet_dict.values())\n",
    "print(planet_dict.items())"
   ]
  },
  {
   "cell_type": "markdown",
   "metadata": {
    "slideshow": {
     "slide_type": "slide"
    }
   },
   "source": [
    "Важный вопрос: а <b>что может быть ключом</b> словаря и элементом множества?"
   ]
  },
  {
   "cell_type": "code",
   "execution_count": null,
   "metadata": {
    "collapsed": true,
    "slideshow": {
     "slide_type": "slide"
    }
   },
   "outputs": [],
   "source": [
    "some_dict = dict()\n",
    "value = 1337\n",
    "key_int = 1\n",
    "key_str = \"str\"\n",
    "key_tpl = (1, 2, 3)\n",
    "key_lst = [1, 2, 3]\n",
    "key_set = {1, 2, 3, 3}\n",
    "key_fset = frozenset({1, 2, 3})\n",
    "key_dct = {\"key\": \"value\"}"
   ]
  },
  {
   "cell_type": "code",
   "execution_count": null,
   "metadata": {
    "collapsed": true,
    "slideshow": {
     "slide_type": "subslide"
    }
   },
   "outputs": [],
   "source": [
    "some_dict[key_int] = value"
   ]
  },
  {
   "cell_type": "code",
   "execution_count": null,
   "metadata": {
    "collapsed": true,
    "slideshow": {
     "slide_type": "subslide"
    }
   },
   "outputs": [],
   "source": [
    "some_dict[key_str] = value"
   ]
  },
  {
   "cell_type": "code",
   "execution_count": null,
   "metadata": {
    "collapsed": true,
    "slideshow": {
     "slide_type": "subslide"
    }
   },
   "outputs": [],
   "source": [
    "some_dict[key_tpl] = value"
   ]
  },
  {
   "cell_type": "code",
   "execution_count": null,
   "metadata": {
    "collapsed": false,
    "slideshow": {
     "slide_type": "subslide"
    }
   },
   "outputs": [],
   "source": [
    "some_dict[key_lst] = value"
   ]
  },
  {
   "cell_type": "code",
   "execution_count": null,
   "metadata": {
    "collapsed": false,
    "slideshow": {
     "slide_type": "subslide"
    }
   },
   "outputs": [],
   "source": [
    "some_dict[key_set] = value"
   ]
  },
  {
   "cell_type": "code",
   "execution_count": null,
   "metadata": {
    "collapsed": true,
    "slideshow": {
     "slide_type": "subslide"
    }
   },
   "outputs": [],
   "source": [
    "some_dict[key_fset] = value"
   ]
  },
  {
   "cell_type": "code",
   "execution_count": null,
   "metadata": {
    "collapsed": false,
    "slideshow": {
     "slide_type": "subslide"
    }
   },
   "outputs": [],
   "source": [
    "some_dict[key_dct] = value"
   ]
  },
  {
   "cell_type": "code",
   "execution_count": null,
   "metadata": {
    "collapsed": false,
    "slideshow": {
     "slide_type": "slide"
    }
   },
   "outputs": [],
   "source": [
    "some_dict"
   ]
  },
  {
   "cell_type": "markdown",
   "metadata": {
    "slideshow": {
     "slide_type": "slide"
    }
   },
   "source": [
    "Конечно же, словари тоже можно создавать в одну строчку:"
   ]
  },
  {
   "cell_type": "code",
   "execution_count": null,
   "metadata": {
    "collapsed": false,
    "slideshow": {
     "slide_type": "slide"
    }
   },
   "outputs": [],
   "source": [
    "{'Key' + str(k) : k ** 2 for k in range(3)}"
   ]
  },
  {
   "cell_type": "markdown",
   "metadata": {
    "slideshow": {
     "slide_type": "slide"
    }
   },
   "source": [
    "## Стандартные функции\n",
    "\n",
    "Их дофига, и все полезные: https://docs.python.org/3.6/library/functions.html"
   ]
  },
  {
   "cell_type": "code",
   "execution_count": null,
   "metadata": {
    "collapsed": false,
    "slideshow": {
     "slide_type": "slide"
    }
   },
   "outputs": [],
   "source": [
    "def fahrenheit(T):\n",
    "    return ((float(9)/5)*T + 32)\n",
    "def celsius(T):\n",
    "    return (float(5)/9)*(T-32)\n",
    "temp = (36.5, 37, 37.5, 39)\n",
    "\n",
    "F = list(map(fahrenheit, temp))\n",
    "C = list(map(celsius, F))\n",
    "\n",
    "print(F)\n",
    "print(C)"
   ]
  },
  {
   "cell_type": "code",
   "execution_count": null,
   "metadata": {
    "collapsed": false,
    "slideshow": {
     "slide_type": "slide"
    }
   },
   "outputs": [],
   "source": [
    "x = [10, 20, 30, 40]\n",
    "y = [4, 5, 6]\n",
    "\n",
    "m = map((lambda x, y: x + y), x, y)\n",
    "print(m)\n",
    "print(list(m))"
   ]
  },
  {
   "cell_type": "code",
   "execution_count": null,
   "metadata": {
    "collapsed": false,
    "slideshow": {
     "slide_type": "slide"
    }
   },
   "outputs": [],
   "source": [
    "sampleA = [10.0, 15.5, 13.3]\n",
    "sampleB = [-5.7, -1.0, 0.0, 7.9]\n",
    "\n",
    "print(zip(sampleA, sampleB))\n",
    "print(list(zip(sampleA, sampleB)))"
   ]
  },
  {
   "cell_type": "markdown",
   "metadata": {
    "slideshow": {
     "slide_type": "slide"
    }
   },
   "source": [
    "<h2>Итераторы (iteratiors)</h2>\n",
    "<br>\n",
    "<small>это предпоследняя тема, обещаю</small>\n",
    "<br>\n",
    "Официальная документация (sort of): https://docs.python.org/3/tutorial/classes.html#iterators"
   ]
  },
  {
   "cell_type": "markdown",
   "metadata": {
    "slideshow": {
     "slide_type": "slide"
    }
   },
   "source": [
    "### Итерируемая последовательность (aka Iterable)\n",
    "\n",
    "Это обьект у которого определён метод \\_\\_iter\\_\\_, возвращающий обьект реализующий протокол *итератора* \n",
    "(Примеры: list, dict, file, range)\n",
    "\n",
    "### Итератор\n",
    "Это обьект у которого определён метод \\_\\_next\\_\\_ .\n",
    "\n",
    "Метод __next__ при каждом вызове должен возвращать следующий элемент последовательности, или выкидывать исключение  StopIteration, если последовательность кончилась"
   ]
  },
  {
   "cell_type": "markdown",
   "metadata": {
    "slideshow": {
     "slide_type": "slide"
    }
   },
   "source": [
    "По любому из перечисленных контейнеров можно пройтись итератором."
   ]
  },
  {
   "cell_type": "code",
   "execution_count": null,
   "metadata": {
    "collapsed": false,
    "slideshow": {
     "slide_type": "subslide"
    }
   },
   "outputs": [],
   "source": [
    "for i in [1, 2, 3, 4]:\n",
    "    print(\"Iteration №{}\".format(i))"
   ]
  },
  {
   "cell_type": "code",
   "execution_count": null,
   "metadata": {
    "collapsed": false,
    "slideshow": {
     "slide_type": "subslide"
    }
   },
   "outputs": [],
   "source": [
    "for i in {1, 2, 3, 3}:\n",
    "    print(\"Iteration №{}\".format(i))"
   ]
  },
  {
   "cell_type": "code",
   "execution_count": null,
   "metadata": {
    "collapsed": false,
    "slideshow": {
     "slide_type": "subslide"
    }
   },
   "outputs": [],
   "source": [
    "for i in dict(zip([1, 2, 3], [\"one\", \"two\", \"three\"])):\n",
    "    print(\"Iteration №{}\".format(i))"
   ]
  },
  {
   "cell_type": "code",
   "execution_count": null,
   "metadata": {
    "collapsed": false,
    "slideshow": {
     "slide_type": "subslide"
    }
   },
   "outputs": [],
   "source": [
    "for i in dict(zip([1, 2, 3], [\"one\", \"two\", \"three\"])).items():\n",
    "    print(\"Key-value pair: {}\".format(i))"
   ]
  },
  {
   "cell_type": "markdown",
   "metadata": {
    "slideshow": {
     "slide_type": "slide"
    }
   },
   "source": [
    "<h2>Генераторы (generators)</h2>\n",
    "<br>\n",
    "Официальная документация (sort of): https://docs.python.org/3/tutorial/classes.html#generators"
   ]
  },
  {
   "cell_type": "code",
   "execution_count": null,
   "metadata": {
    "collapsed": false,
    "slideshow": {
     "slide_type": "subslide"
    }
   },
   "outputs": [],
   "source": [
    "def squares(size):\n",
    "    for i in range(size):\n",
    "        yield i ** 2\n",
    "\n",
    "gen = squares(5)\n",
    "\n",
    "next(gen)\n",
    "print(list(gen))\n",
    "print(list(gen))"
   ]
  },
  {
   "cell_type": "code",
   "execution_count": null,
   "metadata": {
    "collapsed": false,
    "slideshow": {
     "slide_type": "subslide"
    }
   },
   "outputs": [],
   "source": [
    "def unique(seq):\n",
    "    seen = set()\n",
    "    for elem in seq:\n",
    "        if elem not in seen:\n",
    "            seen.add(elem)\n",
    "            yield elem\n",
    "\n",
    "list(unique([1, 2, 3, 1, 2, 4]))"
   ]
  },
  {
   "cell_type": "markdown",
   "metadata": {
    "slideshow": {
     "slide_type": "slide"
    }
   },
   "source": [
    "# Вывод списков (join)"
   ]
  },
  {
   "cell_type": "code",
   "execution_count": null,
   "metadata": {
    "collapsed": false,
    "slideshow": {
     "slide_type": "slide"
    }
   },
   "outputs": [],
   "source": [
    "' '.join(['Hello', 'world'])"
   ]
  },
  {
   "cell_type": "markdown",
   "metadata": {
    "slideshow": {
     "slide_type": "slide"
    }
   },
   "source": [
    "## Сравнение циклов и списковых выражений"
   ]
  },
  {
   "cell_type": "code",
   "execution_count": null,
   "metadata": {
    "collapsed": false,
    "slideshow": {
     "slide_type": "subslide"
    }
   },
   "outputs": [],
   "source": [
    "import time\n",
    "\n",
    "start = time.time()\n",
    "iterations = 10000000\n",
    "arr = []\n",
    "for i in range(1, iterations):\n",
    "    arr.append(i)\n",
    "print(\"Цикл {}\".format(time.time() - start))\n",
    "\n",
    "start = time.time()\n",
    "arr = [i for i in range(1, iterations)]\n",
    "print(\"Генератор {}\".format(time.time() - start))"
   ]
  },
  {
   "cell_type": "markdown",
   "metadata": {
    "collapsed": true,
    "slideshow": {
     "slide_type": "slide"
    }
   },
   "source": [
    "## Задача 1\n",
    "Выведите двумерный массив размера $N * N$, где на месте (i, k) стоит $2^{i}*3^{k}$."
   ]
  },
  {
   "cell_type": "code",
   "execution_count": null,
   "metadata": {
    "collapsed": true
   },
   "outputs": [],
   "source": []
  },
  {
   "cell_type": "markdown",
   "metadata": {
    "slideshow": {
     "slide_type": "slide"
    }
   },
   "source": [
    "## Задача 2\n",
    "Дано шахматное поле размера $N*M$, в левом верхнем углу стоит конь. Он может двигаться только на две клетки вправо и одну вниз или на две клетки вниз и одну вправо. Сколькими способами он может добраться до левого нижнего угла?"
   ]
  },
  {
   "cell_type": "code",
   "execution_count": null,
   "metadata": {
    "collapsed": true
   },
   "outputs": [],
   "source": []
  },
  {
   "cell_type": "markdown",
   "metadata": {
    "slideshow": {
     "slide_type": "slide"
    }
   },
   "source": [
    "## Задача 3\n",
    "На вход подается целое число n - число классов, а затем n строк вида:<br/>\n",
    "<имя класса 1> : <имя класса 2> <имя класса 3> ... <имя класса k><br/>\n",
    "Это означает, что класс 1 отнаследован от класса 2, класса 3, и т. д. Класс может ни от кого не наследоваться. Гарантируется, что класс не наследуется сам от себя (прямо или косвенно) и что класс не наследуется явно от одного класса более одного раза.\n",
    "\n",
    "В следующей строке содержится число q - количество запросов. В следующих q строках содержится описание запросов в формате <имя класса 1> <имя класса 2>.\n",
    "\n",
    "Для каждого запроса выведите в отдельной строке слово \"Yes\", если класс 1 является предком класса 2, и \"No\", если не является."
   ]
  },
  {
   "cell_type": "markdown",
   "metadata": {},
   "source": [
    "**Sample Input:**<br/>\n",
    "4<br/>\n",
    "A<br/>\n",
    "B : A<br/>\n",
    "C : A<br/>\n",
    "D : B C<br/>\n",
    "4<br/>\n",
    "A B<br/>\n",
    "B D<br/>\n",
    "C D<br/>\n",
    "D A<br/>\n",
    "\n",
    "**Sample Output:**<br/>\n",
    "Yes<br/>\n",
    "Yes<br/>\n",
    "Yes<br/>\n",
    "No<br/>"
   ]
  },
  {
   "cell_type": "code",
   "execution_count": null,
   "metadata": {
    "collapsed": true
   },
   "outputs": [],
   "source": []
  }
 ],
 "metadata": {
  "celltoolbar": "Slideshow",
  "kernelspec": {
   "display_name": "Python 3",
   "language": "python",
   "name": "python3"
  },
  "language_info": {
   "codemirror_mode": {
    "name": "ipython",
    "version": 3
   },
   "file_extension": ".py",
   "mimetype": "text/x-python",
   "name": "python",
   "nbconvert_exporter": "python",
   "pygments_lexer": "ipython3",
   "version": "3.4.5"
  }
 },
 "nbformat": 4,
 "nbformat_minor": 2
}
