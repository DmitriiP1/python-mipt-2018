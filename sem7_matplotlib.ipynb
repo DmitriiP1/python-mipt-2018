{
 "cells": [
  {
   "cell_type": "markdown",
   "metadata": {},
   "source": [
    "# Аналитика: визуализация данных\n",
    "Основа анализа любых данных - это их визуализация. В Python для этой цели есть две наиболее популярные библиотеки: matplotlib и seaborn. Они позволяют строить и сохранять различные виды графиков по вашим данным.\n",
    "\n",
    "Мы рассмотрим работу с ними на конкретном датасете: история задержек вылетов пассажирских рейсов за 2008 год. Этот дадасет собран по данным Министерства транспорта США. Он включает в себя информацию о датах вылета и прилета рейсов, задержках, переносах, отменах и их причинах.\n",
    "\n",
    "## Matplotlib (немного простых графиков)"
   ]
  },
  {
   "cell_type": "code",
   "execution_count": null,
   "metadata": {
    "collapsed": false
   },
   "outputs": [],
   "source": [
    "import pandas as pd\n",
    "import numpy as np\n",
    "import matplotlib as mpl\n",
    "import matplotlib.pyplot as plt\n",
    "from datetime import datetime, timedelta\n",
    "\n",
    "# графики внутри jupyter\n",
    "%matplotlib inline"
   ]
  },
  {
   "cell_type": "markdown",
   "metadata": {},
   "source": [
    "График состоит из объектов **figure**, **axes** и других. Внутри одной фигуры (рисунка) может быть несколько осей (графиков), подписей, линий и прочего. Нарисуем что-нибудь простое."
   ]
  },
  {
   "cell_type": "code",
   "execution_count": null,
   "metadata": {
    "collapsed": false
   },
   "outputs": [],
   "source": [
    "def draw():\n",
    "    fig = plt.figure()\n",
    "    ax = plt.axes()\n",
    "    x = np.linspace(0, 10, 1000)\n",
    "    ax.plot(x, np.sin(x))  # можно использовать plt.plot()\n",
    "    \n",
    "draw()"
   ]
  },
  {
   "cell_type": "markdown",
   "metadata": {},
   "source": [
    "Matplotlib поддерживает несколько различных стилей отрисовки графиков, про которые можно почитать в [документации](https://matplotlib.org/users/customizing.html)"
   ]
  },
  {
   "cell_type": "code",
   "execution_count": null,
   "metadata": {
    "collapsed": true
   },
   "outputs": [],
   "source": [
    "plt.style.use('seaborn-whitegrid')"
   ]
  },
  {
   "cell_type": "code",
   "execution_count": null,
   "metadata": {
    "collapsed": false
   },
   "outputs": [],
   "source": [
    "draw()"
   ]
  },
  {
   "cell_type": "code",
   "execution_count": null,
   "metadata": {
    "collapsed": false
   },
   "outputs": [],
   "source": [
    "plt.style.available  # все доступные стили"
   ]
  },
  {
   "cell_type": "markdown",
   "metadata": {},
   "source": [
    "### Немного \"линейных\" графиков"
   ]
  },
  {
   "cell_type": "code",
   "execution_count": null,
   "metadata": {
    "collapsed": false
   },
   "outputs": [],
   "source": [
    "def draw_two_lines():\n",
    "    fig = plt.figure(figsize=(19,7))\n",
    "    ax = plt.axes()\n",
    "    x = np.linspace(0, 10, 1000)\n",
    "    ax.plot(x, np.sin(x), label='sin(x)')\n",
    "    ax.plot(x, np.cos(x), label='cos(x)', color='g', linestyle='--')\n",
    "    ax.legend(loc='best', prop={'size': 15})\n",
    "    ax.set_xlabel('radians', size=15)\n",
    "    ax.set_ylabel('value', size=15)\n",
    "    ax.set_title('Compare sin and cos', size=25)\n",
    "    ax.set_xlim(-1, 11)   \n",
    "    ax.set_ylim(-1.5, 1.5)    # можно поменять пределы местами и будет зеркальное отображение\n",
    "    \n",
    "draw_two_lines()"
   ]
  },
  {
   "cell_type": "markdown",
   "metadata": {
    "collapsed": true
   },
   "source": [
    "### Необязательная задачка\n",
    "Поищите в документации про параметр-маркер у plt.plot(). Он позволяет рисовать точки, треугольники и много еще чего, соединять их при этом различными линиями и сразу указывать цвет."
   ]
  },
  {
   "cell_type": "markdown",
   "metadata": {
    "collapsed": true
   },
   "source": [
    "### Диаграммы рассеяния (scatter)"
   ]
  },
  {
   "cell_type": "code",
   "execution_count": null,
   "metadata": {
    "collapsed": false
   },
   "outputs": [],
   "source": [
    "def draw_scatter():\n",
    "    fig = plt.figure()\n",
    "    ax = plt.axes()\n",
    "    x = np.linspace(0, 10, 50)\n",
    "    ax.scatter(x, np.sin(x))  # вместо ax.plot\n",
    "    \n",
    "draw_scatter()"
   ]
  },
  {
   "cell_type": "code",
   "execution_count": null,
   "metadata": {
    "collapsed": false
   },
   "outputs": [],
   "source": [
    "def draw_beauty_scatter():\n",
    "    # создаем 100 рандомных координат\n",
    "    rng = np.random.RandomState(0)\n",
    "    x = rng.randn(100)\n",
    "    y = rng.randn(100)\n",
    "    \n",
    "    # выбираем \"цвета\" и размеры наших точек\n",
    "    colors = rng.rand(100)\n",
    "    sizes = 1000 * rng.rand(100)\n",
    "    \n",
    "    # рисуем красивую картинку\n",
    "    plt.figure(figsize=(19, 6))\n",
    "    plt.scatter(x, y, c=colors, s=sizes, alpha=0.3,\n",
    "               cmap='viridis')\n",
    "    plt.colorbar()  # цветовая панель справа\n",
    "    \n",
    "draw_beauty_scatter()"
   ]
  },
  {
   "cell_type": "markdown",
   "metadata": {},
   "source": [
    "### Что лучше: plot или scatter?\n",
    "При небольших объемах данных это не играет роли, но при наборах данных, превышающих несколько тысяч точек, **функция plt.plot может оказаться намного эффективнее plt.scatter**. Поскольку plt.scatter умеет визуализировать различные размеры и цвета каждой точки, визуализатору приходится выполнять дополнительную работу по формированию каждой точки в отдельности. В случае же функции plt.plot все точки одинаковые, поэтому работа по определению внешнего вида точек выполняется только один раз для всего набора данных. Для больших наборов данных это различие может приводить к коренным различиям в производительности, поэтому в таком случае следует использовать функцию plt.plot, а не plt.scatter."
   ]
  },
  {
   "cell_type": "markdown",
   "metadata": {},
   "source": [
    "### Что еще умеет matplotlib?\n",
    "Очень-очень-очень много всего:\n",
    "* погрешности: plt.errorbar\n",
    "* заливка частей графиков: plt.fill_between\n",
    "* контурные графики: plt.contour и plt.contourf\n",
    "* отображение изображений: plt.imshow \n",
    "* гистограммы: plt.hist, plt.hist2d и plt.hexbin\n",
    "\n",
    "А если это все объединять и активно использовать параметры, то можно построить абсолютно любой график (ограничений почти нет). Главное - найти документацию и суметь разобраться в ней (на деле это может оказаться не так просто, как кажется).\n",
    "\n",
    "### Несколько графиков на одном рисунке\n",
    "Есть два способа: извращенный (через параметры plt.axes) и нормальный. Первый мы рассматривать не будем, но если вам понадобится что-то неординарное, то он позволит нарисовать почти что угодно."
   ]
  },
  {
   "cell_type": "code",
   "execution_count": null,
   "metadata": {
    "collapsed": false
   },
   "outputs": [],
   "source": [
    "def draw_subplots():\n",
    "    fig = plt.figure(figsize=(19, 6))\n",
    "    fig.subplots_adjust(hspace=0.4, wspace=0.4)  # добавляем расстояние между графиками\n",
    "    for i in range(1, 7):\n",
    "        ax = fig.add_subplot(2, 3, i)      # (2, 3) - это размер \"таблицы\", i - позиция\n",
    "        ax.text(0.5, 0.5, str((2, 3, i)),\n",
    "                fontsize=18, ha='center')  # добавляем красоты\n",
    "    \n",
    "draw_subplots()"
   ]
  },
  {
   "cell_type": "code",
   "execution_count": null,
   "metadata": {
    "collapsed": false
   },
   "outputs": [],
   "source": [
    "def draw_hard_subplots():\n",
    "    fig = plt.figure(figsize=(19, 6))\n",
    "    grid = plt.GridSpec(2, 3, wspace=0.4, hspace=0.3)\n",
    "    plt.subplot(grid[0, 0])\n",
    "    ax = plt.subplot(grid[0, 1:])\n",
    "    ax.text(0.5, 0.5, \"(2, 3, 2) + (2, 3, 3)\",\n",
    "                fontsize=18, ha='center')\n",
    "    plt.subplot(grid[1, :2])\n",
    "    plt.subplot(grid[1, 2]);\n",
    "    \n",
    "draw_hard_subplots()"
   ]
  },
  {
   "cell_type": "markdown",
   "metadata": {
    "collapsed": true
   },
   "source": [
    "---\n",
    "## Задача 1\n",
    "Перепишите функцию draw_beauty_scatter так, чтобы на результирующем рисунке было:\n",
    "* 3 графика в два ряда (в одном из рядов будет 2 графика сразу);\n",
    "* графики использует в качестве размера точки: $1000 * x$, $1000 * y$ и $1000 * size$;\n",
    "* у каждого графика подписаны оси координат;\n",
    "* заголовок рисунка"
   ]
  },
  {
   "cell_type": "code",
   "execution_count": null,
   "metadata": {
    "collapsed": true
   },
   "outputs": [],
   "source": []
  },
  {
   "cell_type": "markdown",
   "metadata": {
    "collapsed": true
   },
   "source": [
    "---\n",
    "## Разбор реального кейса\n",
    "**Или \"Переходим к интересной части\"**\n",
    "\n",
    "Для начала скачайте данные [здесь](https://yadi.sk/d/EB2Hct-S3TFgNR). Потом можно прочитать описание или сразу ринуться в бой вслепую (но не рекомендую).\n",
    "\n",
    "## Описание данных\n",
    "[Ссылка](https://www.kaggle.com/giovamata/airlinedelaycauses/data) на полное описание данных.<br/>\n",
    "**DayOfWeek:** день недели (1 - понедельник)<br/>\n",
    "**DepTime:** фактическое время вылета (локальное) в формате ччмм<br/>\n",
    "**CRSDepTime:** время вылета по расписанию (локальное) в формате ччмм<br/>\n",
    "**ArrTime:** фактическое время прилета (локальное) в формате ччмм<br/>\n",
    "**CRSArrTime:** время прилета по расписанию (локальное) в формате ччмм<br/>\n",
    "**UniqueCarrier:** уникальный код перевозчика<br/>\n",
    "**FlightNum:** номер рейса<br/>\n",
    "**TailNum:** бортовой номер самолета<br/>\n",
    "**ActualElapsedTime:** время полета (минуты)<br/>\n",
    "**AirTime:** время в воздухе (минуты)<br/>\n",
    "**ArrDelay:** время задержки прибытия (минуты)<br/>\n",
    "**DepDelay:** время задержки отправления (минуты)<br/>\n",
    "**Distance:** расстояние в милях<br/>\n",
    "**Cancelled:** отменен ли был рейс?<br/>\n",
    "**CancellationCode:** причина отмены полета (A = перевозчик, B = погода, C = NAS, D = безопасность)<br/>\n",
    "**Diverted:** перенесен ли рейс?<br/>\n",
    "\n",
    "## Разбираемся с тем, что внутри"
   ]
  },
  {
   "cell_type": "code",
   "execution_count": null,
   "metadata": {
    "collapsed": false
   },
   "outputs": [],
   "source": [
    "df = pd.read_csv(\"doc/delayed_flights.csv\", index_col=0, parse_dates=True)\n",
    "df.head(2)"
   ]
  },
  {
   "cell_type": "code",
   "execution_count": null,
   "metadata": {
    "collapsed": false
   },
   "outputs": [],
   "source": [
    "df.info()"
   ]
  },
  {
   "cell_type": "markdown",
   "metadata": {},
   "source": [
    "Индекс заботливо переведен в datetime64[ns], а значит можно будет совершать операции над временем (вспоминаем прошлый семинар)\n",
    "\n",
    "Если прочитать описание данных (или внимательно приглядеться), можно увидеть, что времена отлета и прилета записаны очень неудобно. Нужна предобработка данных"
   ]
  },
  {
   "cell_type": "code",
   "execution_count": null,
   "metadata": {
    "collapsed": false
   },
   "outputs": [],
   "source": [
    "df.dep_time = df.dep_time.astype(int)\n",
    "df['dttm'] = df.index + df.dep_time.apply(lambda x: timedelta(hours=x//100, minutes=x%100))\n",
    "df = df.sort_values('dttm')\n",
    "df.head(2)"
   ]
  },
  {
   "cell_type": "markdown",
   "metadata": {},
   "source": [
    "У DataFrame есть метод, позволяющий построить некоторые основные статистики для количественных данных (аналогичный метод есть у Series). Качественные данные, например, информацию о перевозчиках, можно смотреть через метод value_counts - по сути он возвращает гистограмму, которую потом можно визуализировать.<br/>\n",
    "Давайте посмотрим на статистики по количественным признакам и посмотрим на распределение количества поездок от различных перевозчиков (заодно научимся строить barchart)."
   ]
  },
  {
   "cell_type": "code",
   "execution_count": null,
   "metadata": {
    "collapsed": false
   },
   "outputs": [],
   "source": [
    "df.describe()"
   ]
  },
  {
   "cell_type": "code",
   "execution_count": null,
   "metadata": {
    "collapsed": false,
    "scrolled": false
   },
   "outputs": [],
   "source": [
    "# Построим распределение количества полетов для перевозчиков\n",
    "carriers = df.unique_carrier.value_counts()\n",
    "carriers"
   ]
  },
  {
   "cell_type": "code",
   "execution_count": null,
   "metadata": {
    "collapsed": false
   },
   "outputs": [],
   "source": [
    "carriers.plot.bar()  # все очень просто"
   ]
  },
  {
   "cell_type": "markdown",
   "metadata": {},
   "source": [
    "## Постановка задачи\n",
    "Бесцельно смотреть на данные - это не очень интересно, поэтому вот вам задача.\n",
    "\n",
    "У нас есть данные о перелетах с 1 января 2008 по 1 апреля 2008. Давайте попробуем ответить на вопрос: что влияет на задержки прилета рейсов?\n",
    "\n",
    "### Шаг 0. Изучение данных о времени задержки рейса\n",
    "Давайте поймем как у нас в данных хранится время задержки рейса и построим его распределение.\n",
    "\n",
    "Время задержки хранится отдельной колонкой: dep_delay"
   ]
  },
  {
   "cell_type": "code",
   "execution_count": null,
   "metadata": {
    "collapsed": false
   },
   "outputs": [],
   "source": [
    "delay = df.arr_delay\n",
    "descr = delay.describe()\n",
    "descr"
   ]
  },
  {
   "cell_type": "markdown",
   "metadata": {},
   "source": [
    "#### Впоросы:\n",
    "1. Что можно сказать по этим данным?\n",
    "2. У Series есть метод hist(), который выводит гистограмму значений. Можно ли просто им воспользоваться, чтобы увидеть распределение или нужна предобработка данных?"
   ]
  },
  {
   "cell_type": "code",
   "execution_count": null,
   "metadata": {
    "collapsed": false
   },
   "outputs": [],
   "source": [
    "low = descr['mean'] - 3 * descr['std']\n",
    "up = descr['mean'] + 3 * descr['std']\n",
    "delay[(low < delay) & (delay < up)].hist(bins=100)"
   ]
  },
  {
   "cell_type": "markdown",
   "metadata": {},
   "source": [
    "### Шаг 1. Изучение зависимостей от одного признака"
   ]
  },
  {
   "cell_type": "code",
   "execution_count": null,
   "metadata": {
    "collapsed": false
   },
   "outputs": [],
   "source": [
    "def plot_scatter(delay, factor):\n",
    "    fig = plt.figure(figsize=(17,6))\n",
    "    x = factor.values\n",
    "    y = delay.values\n",
    "    if isinstance(x[0], str):\n",
    "        # если мощности не хватает, можно закомментить и смотреть другими методами\n",
    "        x = df.flight_num.values\n",
    "        ticks = list(set(x))\n",
    "        x = [ticks.index(name) for name in x]\n",
    "        plt.xticks(x, ticks)\n",
    "    plt.plot(x, y, 'o', alpha=0.3)\n",
    "    plt.title(\"Зависимость arr_delay от %s\" % factor.name, size=25)\n",
    "    plt.xlabel(factor.name, size=15)\n",
    "    plt.ylabel(\"arr_delay\", size=15)\n",
    "    plt.show()"
   ]
  },
  {
   "cell_type": "code",
   "execution_count": null,
   "metadata": {
    "collapsed": false
   },
   "outputs": [],
   "source": [
    "plot_scatter(delay, df.dep_delay)"
   ]
  },
  {
   "cell_type": "markdown",
   "metadata": {},
   "source": [
    "#### Впоросы:\n",
    "1. Какие выводы можно сделать из графика?\n",
    "2. Всегда ли видя такую картинку можно делать аналогичный вывод?\n",
    "\n",
    "\n",
    "На самом деле у DataFrame есть метод, позволяющий строить сразу группу таких графиков, но он может работать достаточно долго, особенно на больших наборах данных.\n",
    "\n",
    "### Задача 2\n",
    "Попробуйте поизучать зависимости времени задержки прилета от других факторов и сделайте выводы."
   ]
  },
  {
   "cell_type": "code",
   "execution_count": null,
   "metadata": {
    "collapsed": true
   },
   "outputs": [],
   "source": []
  },
  {
   "cell_type": "markdown",
   "metadata": {},
   "source": [
    "### Шаг 2. Изучение зависимостей от группы признаков\n",
    "Идея изучения подобных зависимостей в том, что возможно в данные можно разделить на более мелкие сегменты, внутри которых есть зависимости, не замеченные на всем наборе.\n",
    "\n",
    "### Задача 3\n",
    "Напишите функцию, которая позволит изучать подобные зависимости."
   ]
  },
  {
   "cell_type": "code",
   "execution_count": null,
   "metadata": {
    "collapsed": true
   },
   "outputs": [],
   "source": []
  }
 ],
 "metadata": {
  "kernelspec": {
   "display_name": "Python 3",
   "language": "python",
   "name": "python3"
  },
  "language_info": {
   "codemirror_mode": {
    "name": "ipython",
    "version": 3
   },
   "file_extension": ".py",
   "mimetype": "text/x-python",
   "name": "python",
   "nbconvert_exporter": "python",
   "pygments_lexer": "ipython3",
   "version": "3.4.5"
  }
 },
 "nbformat": 4,
 "nbformat_minor": 2
}
