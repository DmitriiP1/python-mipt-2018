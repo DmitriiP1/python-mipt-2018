{
 "cells": [
  {
   "cell_type": "markdown",
   "metadata": {
    "slideshow": {
     "slide_type": "slide"
    }
   },
   "source": [
    "# PYTHON 3\n",
    "## Lesson 4\n",
    "### Пространства имен. Декораторы. PEP8. Jupyter Notebook.\n"
   ]
  },
  {
   "cell_type": "markdown",
   "metadata": {
    "colab_type": "text",
    "id": "vL5W5S6c3SxJ",
    "slideshow": {
     "slide_type": "slide"
    }
   },
   "source": [
    "# Пространства имен (Namespaces)\n",
    "\n",
    "Это отображение из множества названий переменных в множество объектов"
   ]
  },
  {
   "cell_type": "markdown",
   "metadata": {
    "colab_type": "text",
    "id": "NGZvY-ZeDEap",
    "slideshow": {
     "slide_type": "slide"
    }
   },
   "source": [
    "Циклы и условия не создают своё пространство имён"
   ]
  },
  {
   "cell_type": "code",
   "execution_count": 2,
   "metadata": {
    "colab": {
     "autoexec": {
      "startup": false,
      "wait_interval": 0
     },
     "base_uri": "https://localhost:8080/",
     "height": 34,
     "output_extras": [
      {
       "item_id": 1
      }
     ]
    },
    "colab_type": "code",
    "executionInfo": {
     "elapsed": 648,
     "status": "ok",
     "timestamp": 1519882393548,
     "user": {
      "displayName": "Илья Гусев",
      "photoUrl": "https://lh3.googleusercontent.com/a/default-user=s128",
      "userId": "111900981964579496257"
     },
     "user_tz": -180
    },
    "id": "8iESt4EJDD_7",
    "outputId": "49b0aed8-6094-4a71-efbf-a7f1d649454c"
   },
   "outputs": [
    {
     "name": "stdout",
     "output_type": "stream",
     "text": [
      "4\n"
     ]
    }
   ],
   "source": [
    "for i in range(3):\n",
    "    a = i ** 2\n",
    "\n",
    "print(a)"
   ]
  },
  {
   "cell_type": "code",
   "execution_count": 3,
   "metadata": {
    "colab": {
     "autoexec": {
      "startup": false,
      "wait_interval": 0
     },
     "base_uri": "https://localhost:8080/",
     "height": 34,
     "output_extras": [
      {
       "item_id": 1
      }
     ]
    },
    "colab_type": "code",
    "executionInfo": {
     "elapsed": 524,
     "status": "ok",
     "timestamp": 1519882395000,
     "user": {
      "displayName": "Илья Гусев",
      "photoUrl": "https://lh3.googleusercontent.com/a/default-user=s128",
      "userId": "111900981964579496257"
     },
     "user_tz": -180
    },
    "id": "R8NyszCeDHsP",
    "outputId": "a0d13f66-3f59-4682-c7b5-090ecf4c6a90"
   },
   "outputs": [
    {
     "name": "stdout",
     "output_type": "stream",
     "text": [
      "2\n"
     ]
    }
   ],
   "source": [
    "if True:\n",
    "    a = 2\n",
    "    \n",
    "print(a)"
   ]
  },
  {
   "cell_type": "markdown",
   "metadata": {
    "colab_type": "text",
    "id": "ti0AQW5XDSZo",
    "slideshow": {
     "slide_type": "slide"
    }
   },
   "source": [
    "locals() - возвращает текущий namespace в виде словаря\n",
    "\n",
    "globals() - возвращает namespace модуля\n",
    "\n"
   ]
  },
  {
   "cell_type": "code",
   "execution_count": 4,
   "metadata": {
    "colab": {
     "autoexec": {
      "startup": false,
      "wait_interval": 0
     },
     "base_uri": "https://localhost:8080/",
     "height": 34,
     "output_extras": [
      {
       "item_id": 1
      }
     ]
    },
    "colab_type": "code",
    "executionInfo": {
     "elapsed": 604,
     "status": "ok",
     "timestamp": 1519882445837,
     "user": {
      "displayName": "Илья Гусев",
      "photoUrl": "https://lh3.googleusercontent.com/a/default-user=s128",
      "userId": "111900981964579496257"
     },
     "user_tz": -180
    },
    "id": "41OSx8Z2DRpH",
    "outputId": "3a0fd460-30f0-424e-c1fe-86ca8b447588"
   },
   "outputs": [
    {
     "name": "stdout",
     "output_type": "stream",
     "text": [
      "{'x': 1} False True\n"
     ]
    }
   ],
   "source": [
    "def test():\n",
    "    x = 1\n",
    "    print(locals(), 'x' in globals(), 'x' in locals())\n",
    "\n",
    "test()"
   ]
  },
  {
   "cell_type": "markdown",
   "metadata": {
    "colab_type": "text",
    "id": "8ko1fQnEDa1_",
    "slideshow": {
     "slide_type": "slide"
    }
   },
   "source": [
    "Функции создают свой namespace"
   ]
  },
  {
   "cell_type": "code",
   "execution_count": 5,
   "metadata": {
    "colab": {
     "autoexec": {
      "startup": false,
      "wait_interval": 0
     },
     "base_uri": "https://localhost:8080/",
     "height": 197,
     "output_extras": [
      {
       "item_id": 1
      }
     ]
    },
    "colab_type": "code",
    "executionInfo": {
     "elapsed": 606,
     "status": "error",
     "timestamp": 1519882464652,
     "user": {
      "displayName": "Илья Гусев",
      "photoUrl": "https://lh3.googleusercontent.com/a/default-user=s128",
      "userId": "111900981964579496257"
     },
     "user_tz": -180
    },
    "id": "N3MlT91ADc7j",
    "outputId": "963ab1f6-6ee1-4e5f-d401-1c2ea5b321ee"
   },
   "outputs": [
    {
     "ename": "NameError",
     "evalue": "ignored",
     "output_type": "error",
     "traceback": [
      "\u001b[0;31m---------------------------------------------------------------------------\u001b[0m",
      "\u001b[0;31mNameError\u001b[0m                                 Traceback (most recent call last)",
      "\u001b[0;32m<ipython-input-5-1fe8b4151885>\u001b[0m in \u001b[0;36m<module>\u001b[0;34m()\u001b[0m\n\u001b[1;32m      3\u001b[0m \u001b[0;34m\u001b[0m\u001b[0m\n\u001b[1;32m      4\u001b[0m \u001b[0mf\u001b[0m\u001b[0;34m(\u001b[0m\u001b[0;34m)\u001b[0m\u001b[0;34m\u001b[0m\u001b[0m\n\u001b[0;32m----> 5\u001b[0;31m \u001b[0min_func\u001b[0m\u001b[0;34m\u001b[0m\u001b[0m\n\u001b[0m",
      "\u001b[0;31mNameError\u001b[0m: name 'in_func' is not defined"
     ]
    }
   ],
   "source": [
    "def f():\n",
    "    in_func = 2\n",
    "\n",
    "f()\n",
    "in_func"
   ]
  },
  {
   "cell_type": "markdown",
   "metadata": {
    "colab_type": "text",
    "id": "JnWSTmL5DfhB",
    "slideshow": {
     "slide_type": "slide"
    }
   },
   "source": [
    "### Область видимости (scope)\n",
    "\n",
    "Правило LEGB:\n",
    "\n",
    "1) Local - имена, определенные внутри функции (и не помеченные global)\n",
    "\n",
    "2) Enclosing-function locals - имена в области видимости всех оборачивающих (enclosing) функций, в порядке уменьшения глубины\n",
    "\n",
    "3) Global - глобальные имена, определенные на уровне модуля или посредством global\n",
    "\n",
    "4) Built-in - предопределенные (range, open, ...)"
   ]
  },
  {
   "cell_type": "markdown",
   "metadata": {
    "colab_type": "text",
    "id": "0VN0KheuQNwG",
    "slideshow": {
     "slide_type": "slide"
    }
   },
   "source": [
    "Видимость доступа"
   ]
  },
  {
   "cell_type": "code",
   "execution_count": 50,
   "metadata": {
    "colab": {
     "autoexec": {
      "startup": false,
      "wait_interval": 0
     },
     "base_uri": "https://localhost:8080/",
     "height": 34,
     "output_extras": [
      {
       "item_id": 1
      }
     ]
    },
    "colab_type": "code",
    "executionInfo": {
     "elapsed": 767,
     "status": "ok",
     "timestamp": 1519856537045,
     "user": {
      "displayName": "Илья Гусев",
      "photoUrl": "https://lh3.googleusercontent.com/a/default-user=s128",
      "userId": "111900981964579496257"
     },
     "user_tz": -180
    },
    "id": "uyG7GwlE3OLJ",
    "outputId": "1248e530-bb4e-4972-cc1e-cd611445fa22"
   },
   "outputs": [
    {
     "name": "stdout",
     "output_type": "stream",
     "text": [
      "5\n"
     ]
    }
   ],
   "source": [
    "x = 5\n",
    "\n",
    "def f():\n",
    "    print(x)\n",
    "\n",
    "f()"
   ]
  },
  {
   "cell_type": "markdown",
   "metadata": {
    "colab_type": "text",
    "id": "iu4QtohmQQyT",
    "slideshow": {
     "slide_type": "slide"
    }
   },
   "source": [
    "Фейл при попытке изменения"
   ]
  },
  {
   "cell_type": "code",
   "execution_count": 2,
   "metadata": {
    "colab": {
     "autoexec": {
      "startup": false,
      "wait_interval": 0
     },
     "base_uri": "https://localhost:8080/",
     "height": 34,
     "output_extras": [
      {
       "item_id": 1
      }
     ]
    },
    "colab_type": "code",
    "executionInfo": {
     "elapsed": 602,
     "status": "ok",
     "timestamp": 1519855165579,
     "user": {
      "displayName": "Илья Гусев",
      "photoUrl": "https://lh3.googleusercontent.com/a/default-user=s128",
      "userId": "111900981964579496257"
     },
     "user_tz": -180
    },
    "id": "O8CmxZxg4XhS",
    "outputId": "90f5fdec-979c-4b2d-848a-264af0e1f374"
   },
   "outputs": [
    {
     "name": "stdout",
     "output_type": "stream",
     "text": [
      "5\n"
     ]
    }
   ],
   "source": [
    "x = 5\n",
    "\n",
    "def f():\n",
    "    x = 4\n",
    "\n",
    "f()\n",
    "print(x)"
   ]
  },
  {
   "cell_type": "markdown",
   "metadata": {
    "colab_type": "text",
    "id": "odG2KA_EQUqh",
    "slideshow": {
     "slide_type": "slide"
    }
   },
   "source": [
    "Ключевое слово **global**"
   ]
  },
  {
   "cell_type": "code",
   "execution_count": 3,
   "metadata": {
    "colab": {
     "autoexec": {
      "startup": false,
      "wait_interval": 0
     },
     "base_uri": "https://localhost:8080/",
     "height": 34,
     "output_extras": [
      {
       "item_id": 1
      }
     ]
    },
    "colab_type": "code",
    "executionInfo": {
     "elapsed": 605,
     "status": "ok",
     "timestamp": 1519855166961,
     "user": {
      "displayName": "Илья Гусев",
      "photoUrl": "https://lh3.googleusercontent.com/a/default-user=s128",
      "userId": "111900981964579496257"
     },
     "user_tz": -180
    },
    "id": "_0bqBgmR4wYZ",
    "outputId": "e1a72bac-4de1-4bdb-b241-9b953503b10a"
   },
   "outputs": [
    {
     "name": "stdout",
     "output_type": "stream",
     "text": [
      "4\n"
     ]
    }
   ],
   "source": [
    "x = 5\n",
    "\n",
    "def f():\n",
    "    global x\n",
    "    x = 4\n",
    "\n",
    "f()\n",
    "print(x)"
   ]
  },
  {
   "cell_type": "markdown",
   "metadata": {
    "colab_type": "text",
    "id": "7Bk8VNscQX6H",
    "slideshow": {
     "slide_type": "slide"
    }
   },
   "source": [
    "Конфликт с локальным аргументом"
   ]
  },
  {
   "cell_type": "code",
   "execution_count": 5,
   "metadata": {
    "colab": {
     "autoexec": {
      "startup": false,
      "wait_interval": 0
     },
     "base_uri": "https://localhost:8080/",
     "height": 129,
     "output_extras": [
      {
       "item_id": 1
      }
     ]
    },
    "colab_type": "code",
    "executionInfo": {
     "elapsed": 721,
     "status": "error",
     "timestamp": 1519855171111,
     "user": {
      "displayName": "Илья Гусев",
      "photoUrl": "https://lh3.googleusercontent.com/a/default-user=s128",
      "userId": "111900981964579496257"
     },
     "user_tz": -180
    },
    "id": "mCmQI3pp5NP9",
    "outputId": "119e8286-39f4-4022-8755-be11393e882b"
   },
   "outputs": [
    {
     "ename": "SyntaxError",
     "evalue": "ignored",
     "output_type": "error",
     "traceback": [
      "\u001b[0;36m  File \u001b[0;32m\"<ipython-input-5-927dc4575de1>\"\u001b[0;36m, line \u001b[0;32m4\u001b[0m\n\u001b[0;31m    global x\u001b[0m\n\u001b[0m    ^\u001b[0m\n\u001b[0;31mSyntaxError\u001b[0m\u001b[0;31m:\u001b[0m name 'x' is parameter and global\n"
     ]
    }
   ],
   "source": [
    "x = 5\n",
    "\n",
    "def f(x):\n",
    "    global x\n",
    "    x = 4\n",
    "  \n",
    "f(x)"
   ]
  },
  {
   "cell_type": "markdown",
   "metadata": {
    "colab_type": "text",
    "id": "SgQFmnpWQa_m",
    "slideshow": {
     "slide_type": "slide"
    }
   },
   "source": [
    "Фейл для вложенных пространств имён"
   ]
  },
  {
   "cell_type": "code",
   "execution_count": 1,
   "metadata": {
    "colab": {
     "autoexec": {
      "startup": false,
      "wait_interval": 0
     },
     "base_uri": "https://localhost:8080/",
     "height": 34,
     "output_extras": [
      {
       "item_id": 1
      }
     ]
    },
    "colab_type": "code",
    "executionInfo": {
     "elapsed": 753,
     "status": "ok",
     "timestamp": 1519855172397,
     "user": {
      "displayName": "Илья Гусев",
      "photoUrl": "https://lh3.googleusercontent.com/a/default-user=s128",
      "userId": "111900981964579496257"
     },
     "user_tz": -180
    },
    "id": "W2sbqFGo6KZj",
    "outputId": "fbca83f2-a2c8-4e7d-df38-01ae5448fef1"
   },
   "outputs": [
    {
     "name": "stdout",
     "output_type": "stream",
     "text": [
      "5\n"
     ]
    }
   ],
   "source": [
    "def f():\n",
    "    x = 5\n",
    "    def g():\n",
    "        x = 4  # global ссылается на \"глобальный\" x, а не x из f\n",
    "    g()\n",
    "    print(x)\n",
    "f()"
   ]
  },
  {
   "cell_type": "markdown",
   "metadata": {
    "colab_type": "text",
    "id": "Io_DOGYcQk90",
    "slideshow": {
     "slide_type": "subslide"
    }
   },
   "source": [
    "Ключевое слово **nonlocal**"
   ]
  },
  {
   "cell_type": "code",
   "execution_count": 3,
   "metadata": {
    "colab": {
     "autoexec": {
      "startup": false,
      "wait_interval": 0
     },
     "base_uri": "https://localhost:8080/",
     "height": 34,
     "output_extras": [
      {
       "item_id": 1
      }
     ]
    },
    "colab_type": "code",
    "executionInfo": {
     "elapsed": 724,
     "status": "ok",
     "timestamp": 1519855175614,
     "user": {
      "displayName": "Илья Гусев",
      "photoUrl": "https://lh3.googleusercontent.com/a/default-user=s128",
      "userId": "111900981964579496257"
     },
     "user_tz": -180
    },
    "id": "qauWNVHx6paz",
    "outputId": "ae880cbc-65e9-48a7-abc7-57dd1e940294"
   },
   "outputs": [
    {
     "name": "stdout",
     "output_type": "stream",
     "text": [
      "4\n"
     ]
    }
   ],
   "source": [
    "def f():\n",
    "    x = 5\n",
    "    def g():\n",
    "        nonlocal x\n",
    "        x = 4\n",
    "    g()\n",
    "    print(x)\n",
    "f()"
   ]
  },
  {
   "cell_type": "markdown",
   "metadata": {
    "colab_type": "text",
    "id": "eNWD0hLVQwdj",
    "slideshow": {
     "slide_type": "slide"
    }
   },
   "source": [
    "Замыкания как способ сохранения состояния"
   ]
  },
  {
   "cell_type": "code",
   "execution_count": 6,
   "metadata": {
    "colab": {
     "autoexec": {
      "startup": false,
      "wait_interval": 0
     },
     "base_uri": "https://localhost:8080/",
     "height": 34,
     "output_extras": [
      {
       "item_id": 1
      }
     ]
    },
    "colab_type": "code",
    "executionInfo": {
     "elapsed": 593,
     "status": "ok",
     "timestamp": 1519882567021,
     "user": {
      "displayName": "Илья Гусев",
      "photoUrl": "https://lh3.googleusercontent.com/a/default-user=s128",
      "userId": "111900981964579496257"
     },
     "user_tz": -180
    },
    "id": "rLphjHxCQv6Z",
    "outputId": "224c485a-3459-4421-f9c6-928055704114"
   },
   "outputs": [
    {
     "data": {
      "text/plain": [
       "10"
      ]
     },
     "execution_count": 6,
     "metadata": {
      "tags": []
     },
     "output_type": "execute_result"
    }
   ],
   "source": [
    "def make_adder(x):\n",
    "    def adder(y):\n",
    "        return x + y\n",
    "    return adder\n",
    "\n",
    "add5 = make_adder(5)\n",
    "add5(5)"
   ]
  },
  {
   "cell_type": "code",
   "execution_count": 2,
   "metadata": {
    "colab": {
     "autoexec": {
      "startup": false,
      "wait_interval": 0
     },
     "base_uri": "https://localhost:8080/",
     "height": 51,
     "output_extras": [
      {
       "item_id": 1
      }
     ]
    },
    "colab_type": "code",
    "executionInfo": {
     "elapsed": 614,
     "status": "ok",
     "timestamp": 1519882585919,
     "user": {
      "displayName": "Илья Гусев",
      "photoUrl": "https://lh3.googleusercontent.com/a/default-user=s128",
      "userId": "111900981964579496257"
     },
     "user_tz": -180
    },
    "id": "qLY9OOJFD79s",
    "outputId": "ce8112ce-916b-4144-e92d-b02fe8fc7ed5",
    "slideshow": {
     "slide_type": "subslide"
    }
   },
   "outputs": [
    {
     "name": "stdout",
     "output_type": "stream",
     "text": [
      "10\n",
      "20\n"
     ]
    }
   ],
   "source": [
    "def cell(value = 0):\n",
    "    def get():\n",
    "        return value\n",
    "    \n",
    "    def set(new_value):\n",
    "        nonlocal value\n",
    "        value = new_value\n",
    "        return value\n",
    "    \n",
    "    return get, set\n",
    "\n",
    "get, set = cell(10)\n",
    "print(get())\n",
    "\n",
    "set(20)\n",
    "\n",
    "print(get())"
   ]
  },
  {
   "cell_type": "markdown",
   "metadata": {
    "colab_type": "text",
    "id": "W85XytYqKitV",
    "slideshow": {
     "slide_type": "slide"
    }
   },
   "source": [
    "# Декораторы"
   ]
  },
  {
   "cell_type": "code",
   "execution_count": 9,
   "metadata": {
    "colab": {
     "autoexec": {
      "startup": false,
      "wait_interval": 0
     },
     "base_uri": "https://localhost:8080/",
     "height": 68,
     "output_extras": [
      {
       "item_id": 1
      }
     ]
    },
    "colab_type": "code",
    "executionInfo": {
     "elapsed": 705,
     "status": "ok",
     "timestamp": 1519855178482,
     "user": {
      "displayName": "Илья Гусев",
      "photoUrl": "https://lh3.googleusercontent.com/a/default-user=s128",
      "userId": "111900981964579496257"
     },
     "user_tz": -180
    },
    "id": "99IfZmCPKTcR",
    "outputId": "7f9aaac8-07bb-44c1-fea8-d42bb84aa4f7"
   },
   "outputs": [
    {
     "name": "stdout",
     "output_type": "stream",
     "text": [
      "( ͡° ͜ʖ ͡°)\n",
      "╰( ͡° ͜ʖ ͡° )つ──☆*:・ﾟ\n",
      "( ͡ᵔ ͜ʖ ͡ᵔ)\n"
     ]
    }
   ],
   "source": [
    "def my_decorator(function_to_decorate):\n",
    "    def wrapper():\n",
    "        print(\"( ͡° ͜ʖ ͡°)\")\n",
    "        result = function_to_decorate()\n",
    "        print(\"( ͡ᵔ ͜ʖ ͡ᵔ)\")\n",
    "        return result\n",
    "    return wrapper\n",
    "\n",
    "def f():\n",
    "    print(\"╰( ͡° ͜ʖ ͡° )つ──☆*:・ﾟ\")\n",
    "\n",
    "my_decorator(f)()"
   ]
  },
  {
   "cell_type": "markdown",
   "metadata": {
    "colab_type": "text",
    "id": "Uf5y7f4TPAf6",
    "slideshow": {
     "slide_type": "slide"
    }
   },
   "source": [
    "Синтаксический сахар"
   ]
  },
  {
   "cell_type": "code",
   "execution_count": 10,
   "metadata": {
    "colab": {
     "autoexec": {
      "startup": false,
      "wait_interval": 0
     },
     "base_uri": "https://localhost:8080/",
     "height": 68,
     "output_extras": [
      {
       "item_id": 1
      }
     ]
    },
    "colab_type": "code",
    "executionInfo": {
     "elapsed": 754,
     "status": "ok",
     "timestamp": 1519855180499,
     "user": {
      "displayName": "Илья Гусев",
      "photoUrl": "https://lh3.googleusercontent.com/a/default-user=s128",
      "userId": "111900981964579496257"
     },
     "user_tz": -180
    },
    "id": "rgf69FBDMBYV",
    "outputId": "1d604017-47f8-40eb-f6a0-a3d578465417"
   },
   "outputs": [
    {
     "name": "stdout",
     "output_type": "stream",
     "text": [
      "( ͡° ͜ʖ ͡°)\n",
      "ヽ( ⌒o⌒)人(⌒-⌒ )ﾉ\n",
      "( ͡ᵔ ͜ʖ ͡ᵔ)\n"
     ]
    }
   ],
   "source": [
    "@my_decorator\n",
    "def f():\n",
    "    print(\"ヽ( ⌒o⌒)人(⌒-⌒ )ﾉ\")\n",
    "\n",
    "f()"
   ]
  },
  {
   "cell_type": "markdown",
   "metadata": {
    "colab_type": "text",
    "id": "2hqQudROO8-r",
    "slideshow": {
     "slide_type": "slide"
    }
   },
   "source": [
    "Порядок вызовов"
   ]
  },
  {
   "cell_type": "code",
   "execution_count": 11,
   "metadata": {
    "colab": {
     "autoexec": {
      "startup": false,
      "wait_interval": 0
     },
     "base_uri": "https://localhost:8080/",
     "height": 102,
     "output_extras": [
      {
       "item_id": 1
      }
     ]
    },
    "colab_type": "code",
    "executionInfo": {
     "elapsed": 714,
     "status": "ok",
     "timestamp": 1519855182203,
     "user": {
      "displayName": "Илья Гусев",
      "photoUrl": "https://lh3.googleusercontent.com/a/default-user=s128",
      "userId": "111900981964579496257"
     },
     "user_tz": -180
    },
    "id": "FAUq0oPtLNzw",
    "outputId": "6438e6b6-4a17-4160-e356-f304695a2e79"
   },
   "outputs": [
    {
     "name": "stdout",
     "output_type": "stream",
     "text": [
      "┬┴┬┴┤( ͡° ͜ʖ├┬┴┬┴\n",
      "┬┴┬┴┤(･├┬┴┬┴\n",
      "(づ ◕‿◕ )づ\n",
      "(･ω･)\n",
      "( ͡° ͜ʖ ͡°)\n"
     ]
    }
   ],
   "source": [
    "def my_decorator1(f):\n",
    "    def wrapper():\n",
    "        print(\"┬┴┬┴┤( ͡° ͜ʖ├┬┴┬┴\")\n",
    "        result = f()\n",
    "        print(\"( ͡° ͜ʖ ͡°)\")\n",
    "        return result\n",
    "    return wrapper\n",
    "\n",
    "def my_decorator2(f):\n",
    "    def wrapper():\n",
    "        print(\"┬┴┬┴┤(･├┬┴┬┴\")\n",
    "        result = f()\n",
    "        print(\"(･ω･)\")\n",
    "        return result\n",
    "    return wrapper\n",
    "\n",
    "@my_decorator1\n",
    "@my_decorator2\n",
    "def f():\n",
    "    print(\"(づ ◕‿◕ )づ\")\n",
    "  \n",
    "f()"
   ]
  },
  {
   "cell_type": "markdown",
   "metadata": {
    "colab_type": "text",
    "id": "pdErTvj2O6ka",
    "slideshow": {
     "slide_type": "slide"
    }
   },
   "source": [
    "Аргументы функции"
   ]
  },
  {
   "cell_type": "code",
   "execution_count": 12,
   "metadata": {
    "colab": {
     "autoexec": {
      "startup": false,
      "wait_interval": 0
     },
     "base_uri": "https://localhost:8080/",
     "height": 68,
     "output_extras": [
      {
       "item_id": 1
      }
     ]
    },
    "colab_type": "code",
    "executionInfo": {
     "elapsed": 983,
     "status": "ok",
     "timestamp": 1519855184389,
     "user": {
      "displayName": "Илья Гусев",
      "photoUrl": "https://lh3.googleusercontent.com/a/default-user=s128",
      "userId": "111900981964579496257"
     },
     "user_tz": -180
    },
    "id": "kjuDY-MjLWJ8",
    "outputId": "06bdf96f-c4f8-4374-a61f-eea4873270b9"
   },
   "outputs": [
    {
     "name": "stdout",
     "output_type": "stream",
     "text": [
      "( ͠° ͟ʖ ͡°)\n",
      "(⊃｡•́‿•̀｡)⊃━✿✿✿✿✿✿\n",
      "( ͡ᵔ ͜ʖ ͡ᵔ)\n"
     ]
    }
   ],
   "source": [
    "def decorator(f):\n",
    "    def wrapper(arg):\n",
    "        print(\"( ͠° ͟ʖ ͡°)\")\n",
    "        f(arg)\n",
    "        print(\"( ͡ᵔ ͜ʖ ͡ᵔ)\")\n",
    "    return wrapper\n",
    "\n",
    "@decorator\n",
    "def f(arg):\n",
    "    print(\"(⊃｡•́‿•̀｡)⊃\" +arg)\n",
    "\n",
    "f(\"━✿✿✿✿✿✿\")"
   ]
  },
  {
   "cell_type": "markdown",
   "metadata": {
    "colab_type": "text",
    "id": "Ew2Tsc1bPFgR",
    "slideshow": {
     "slide_type": "slide"
    }
   },
   "source": [
    "Передача всех аргументов"
   ]
  },
  {
   "cell_type": "code",
   "execution_count": 13,
   "metadata": {
    "colab": {
     "autoexec": {
      "startup": false,
      "wait_interval": 0
     },
     "base_uri": "https://localhost:8080/",
     "height": 68,
     "output_extras": [
      {
       "item_id": 1
      }
     ]
    },
    "colab_type": "code",
    "executionInfo": {
     "elapsed": 806,
     "status": "ok",
     "timestamp": 1519855185727,
     "user": {
      "displayName": "Илья Гусев",
      "photoUrl": "https://lh3.googleusercontent.com/a/default-user=s128",
      "userId": "111900981964579496257"
     },
     "user_tz": -180
    },
    "id": "MbQXDk5JM54O",
    "outputId": "c98c1ff8-2906-4c0b-e77a-474ac28b1908"
   },
   "outputs": [
    {
     "name": "stdout",
     "output_type": "stream",
     "text": [
      "-------------------------\n",
      "╮°-°)╮ ┳━━┳ ( ╯°□°)╯ ┻━━┻\n",
      "-------------------------\n"
     ]
    }
   ],
   "source": [
    "def perfect_decorator(f):\n",
    "    def wrapper(*args, **kwargs):\n",
    "        print(\"-------------------------\")\n",
    "        f(*args, **kwargs)\n",
    "        print(\"-------------------------\")\n",
    "    return wrapper\n",
    "\n",
    "@perfect_decorator\n",
    "def f(man1, man2, *, table1, table2):\n",
    "    print(man1, table1, man2, table2)\n",
    "  \n",
    "f(\"╮°-°)╮\", \"( ╯°□°)╯\", table1=\"┳━━┳\", table2=\"┻━━┻\")"
   ]
  },
  {
   "cell_type": "markdown",
   "metadata": {
    "colab_type": "text",
    "id": "KdH5q5jJPnDj",
    "slideshow": {
     "slide_type": "slide"
    }
   },
   "source": [
    "Аргументы декоратора"
   ]
  },
  {
   "cell_type": "code",
   "execution_count": 14,
   "metadata": {
    "colab": {
     "autoexec": {
      "startup": false,
      "wait_interval": 0
     },
     "base_uri": "https://localhost:8080/",
     "height": 34,
     "output_extras": [
      {
       "item_id": 1
      }
     ]
    },
    "colab_type": "code",
    "executionInfo": {
     "elapsed": 726,
     "status": "ok",
     "timestamp": 1519855188596,
     "user": {
      "displayName": "Илья Гусев",
      "photoUrl": "https://lh3.googleusercontent.com/a/default-user=s128",
      "userId": "111900981964579496257"
     },
     "user_tz": -180
    },
    "id": "1B3f6JFUNp_m",
    "outputId": "ace3d52f-4da7-4826-f0d6-2f77fefadb35"
   },
   "outputs": [
    {
     "name": "stdout",
     "output_type": "stream",
     "text": [
      "(　￣.)o-【　TV　】\n"
     ]
    }
   ],
   "source": [
    "def decorator_maker(arg):\n",
    "    def param_decorator(f):\n",
    "        def wrapper():\n",
    "            return  f() + arg\n",
    "        return wrapper\n",
    "    return param_decorator\n",
    "@decorator_maker(\"【　TV　】\")\n",
    "def f():\n",
    "    return \"(　￣.)o-\"\n",
    "print(f())"
   ]
  },
  {
   "cell_type": "markdown",
   "metadata": {
    "colab_type": "text",
    "id": "-lkRiX90RDBU",
    "slideshow": {
     "slide_type": "slide"
    }
   },
   "source": [
    "Зачем оно бывает нужно"
   ]
  },
  {
   "cell_type": "code",
   "execution_count": 15,
   "metadata": {
    "colab": {
     "autoexec": {
      "startup": false,
      "wait_interval": 0
     },
     "base_uri": "https://localhost:8080/",
     "height": 51,
     "output_extras": [
      {
       "item_id": 1
      }
     ]
    },
    "colab_type": "code",
    "executionInfo": {
     "elapsed": 602,
     "status": "ok",
     "timestamp": 1519855189779,
     "user": {
      "displayName": "Илья Гусев",
      "photoUrl": "https://lh3.googleusercontent.com/a/default-user=s128",
      "userId": "111900981964579496257"
     },
     "user_tz": -180
    },
    "id": "UFfk4YyEPuKS",
    "outputId": "0694c72d-d9c3-469f-dfa6-24f9f6fc4692"
   },
   "outputs": [
    {
     "name": "stdout",
     "output_type": "stream",
     "text": [
      "f1 0.08944299999999972\n",
      "f2 0.1255090000000001\n"
     ]
    }
   ],
   "source": [
    "import time\n",
    "\n",
    "def benchmark(func):\n",
    "    def wrapper(*args, **kwargs):\n",
    "        t = time.clock()\n",
    "        res = func(*args, **kwargs)\n",
    "        print(func.__name__, time.clock() - t)\n",
    "        return res\n",
    "    return wrapper\n",
    "\n",
    "@benchmark\n",
    "def f1():\n",
    "    l = [i for i in range(1000000)]\n",
    "\n",
    "@benchmark\n",
    "def f2():\n",
    "    l = []\n",
    "    for i in range(1000000):\n",
    "        l.append(i)\n",
    "\n",
    "f1()\n",
    "f2()"
   ]
  },
  {
   "cell_type": "markdown",
   "metadata": {
    "colab_type": "text",
    "id": "4_GO7nVtEKgi",
    "slideshow": {
     "slide_type": "slide"
    }
   },
   "source": [
    "Проблема"
   ]
  },
  {
   "cell_type": "code",
   "execution_count": 9,
   "metadata": {},
   "outputs": [
    {
     "name": "stdout",
     "output_type": "stream",
     "text": [
      "show\n",
      "This is a really nice looking docstring\n"
     ]
    }
   ],
   "source": [
    "def show(x):\n",
    "    \"This is a really nice looking docstring\"\n",
    "    print(x)\n",
    "\n",
    "print(show.__name__)\n",
    "print(show.__doc__)"
   ]
  },
  {
   "cell_type": "code",
   "execution_count": 10,
   "metadata": {},
   "outputs": [
    {
     "name": "stdout",
     "output_type": "stream",
     "text": [
      "wrapper\n",
      "None\n"
     ]
    }
   ],
   "source": [
    "def deprecated(func):\n",
    "    def wrapper(*args, **kwargs):\n",
    "        print('{} is deprecated!'.format(func.__name__), file=sys.stderr)\n",
    "        return func(*args, **kwargs)\n",
    "    return wrapper\n",
    "\n",
    "@deprecated\n",
    "def show(x):\n",
    "    'This is a really nice looking docstring'\n",
    "    print(x)\n",
    "    \n",
    "print(show.__name__)\n",
    "print(show.__doc__) "
   ]
  },
  {
   "cell_type": "markdown",
   "metadata": {
    "slideshow": {
     "slide_type": "slide"
    }
   },
   "source": [
    "Решение - **functools.wraps**"
   ]
  },
  {
   "cell_type": "code",
   "execution_count": 11,
   "metadata": {
    "colab": {
     "autoexec": {
      "startup": false,
      "wait_interval": 0
     }
    },
    "colab_type": "code",
    "id": "V0keFuuPEJ8b"
   },
   "outputs": [
    {
     "name": "stdout",
     "output_type": "stream",
     "text": [
      "show\n",
      "This is a really nice looking docstring\n"
     ]
    }
   ],
   "source": [
    "import functools\n",
    "\n",
    "def deprecated(func):\n",
    "    @functools.wraps(func) \n",
    "    def wrapper(*args, **kwargs):\n",
    "        print('{} is deprecated!'.format(func.__name__), file=sys.stderr)\n",
    "        return func(*args, **kwargs)\n",
    "    return wrapper\n",
    "\n",
    "@deprecated\n",
    "def show(x):\n",
    "    'This is a really nice looking docstring'\n",
    "    print(x)\n",
    "\n",
    "print(show.__name__)\n",
    "print(show.__doc__)"
   ]
  },
  {
   "cell_type": "markdown",
   "metadata": {
    "colab_type": "text",
    "id": "lr6o42zoVQB_",
    "slideshow": {
     "slide_type": "slide"
    }
   },
   "source": [
    "# PEP8"
   ]
  },
  {
   "cell_type": "markdown",
   "metadata": {
    "colab_type": "text",
    "id": "I-Ba6A28VwK5"
   },
   "source": [
    "\n",
    "\n",
    "Методы класса - одной пустой строкой\n",
    "Не нужно лишних пробелов\n",
    "Имена:\n",
    "\n",
    "*   Максимум 79 символов в строке\n",
    "*   Глобальные функции и определения классов окружаются 2 пустыми строками\n",
    "*   Методы класса - одной пустой строкой\n",
    "*   Имена:\n",
    "   *  Модули - short, all-lowercase, нижнее подчёркивание допустимо\n",
    "   *  Классы - CapWords, типа MyClass\n",
    "   *  Функции - all-lowercase, с нижними подчёркиваниями в качестве разделителя слов\n",
    "   *  Локальные переменные, глобальные переменные - аналогично функциям\n",
    "   *  Константы - все большие буквы, с нижними подчёркиваниями в качестве разделителя слов\n",
    "* + много мелких парвил\n",
    "\n",
    "Pylint (https://www.pylint.org/) или pep8 (https://pypi.python.org/pypi/pep8) для проверки"
   ]
  },
  {
   "cell_type": "markdown",
   "metadata": {
    "colab_type": "text",
    "id": "-PGxOds7YwuD",
    "slideshow": {
     "slide_type": "slide"
    }
   },
   "source": [
    "# Jupyter Notebook\n",
    "Самый распростренный инструмент для анализа данных"
   ]
  },
  {
   "cell_type": "markdown",
   "metadata": {
    "slideshow": {
     "slide_type": "slide"
    }
   },
   "source": [
    "Как запустить:\n",
    "\n",
    "`jupyter notebook`\n",
    "\n",
    "Основная единица работы - **.ipynb**-файл (в простонародии - \"ноутбук\")"
   ]
  }
 ],
 "metadata": {
  "celltoolbar": "Slideshow",
  "colab": {
   "collapsed_sections": [],
   "default_view": {},
   "name": "Seminar04.ipynb",
   "provenance": [],
   "version": "0.3.2",
   "views": {}
  },
  "kernelspec": {
   "display_name": "Python 3",
   "language": "python",
   "name": "python3"
  },
  "language_info": {
   "codemirror_mode": {
    "name": "ipython",
    "version": 3
   },
   "file_extension": ".py",
   "mimetype": "text/x-python",
   "name": "python",
   "nbconvert_exporter": "python",
   "pygments_lexer": "ipython3",
   "version": "3.5.2"
  }
 },
 "nbformat": 4,
 "nbformat_minor": 1
}
